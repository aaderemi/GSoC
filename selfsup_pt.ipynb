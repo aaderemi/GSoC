{
  "nbformat": 4,
  "nbformat_minor": 0,
  "metadata": {
    "colab": {
      "provenance": [],
      "gpuType": "T4",
      "mount_file_id": "1zTZ6XV45Wb70-23DJrgIi0MDa3zdd1KD",
      "authorship_tag": "ABX9TyN1ETzEwJTVncE9S3t0LaAM",
      "include_colab_link": true
    },
    "kernelspec": {
      "name": "python3",
      "display_name": "Python 3"
    },
    "language_info": {
      "name": "python"
    },
    "accelerator": "GPU"
  },
  "cells": [
    {
      "cell_type": "markdown",
      "metadata": {
        "id": "view-in-github",
        "colab_type": "text"
      },
      "source": [
        "<a href=\"https://colab.research.google.com/github/aaderemi/GSoC/blob/main/selfsup_pt.ipynb\" target=\"_parent\"><img src=\"https://colab.research.google.com/assets/colab-badge.svg\" alt=\"Open In Colab\"/></a>"
      ]
    },
    {
      "cell_type": "code",
      "source": [
        "!wget https://www.dropbox.com/scl/fi/4zmsw47g0qvyk2p801pnq/data_Adeola_July21.zip?rlkey=ve5oufd1b5hy7x411c9l29led&st=fc67d5ep&dl=0"
      ],
      "metadata": {
        "colab": {
          "base_uri": "https://localhost:8080/"
        },
        "id": "vuznmrDYSNct",
        "outputId": "263cdc9f-58dc-49d5-e396-031bbf47c752"
      },
      "execution_count": null,
      "outputs": [
        {
          "output_type": "stream",
          "name": "stdout",
          "text": [
            "--2024-07-25 12:09:37--  https://www.dropbox.com/scl/fi/4zmsw47g0qvyk2p801pnq/data_Adeola_July21.zip?rlkey=ve5oufd1b5hy7x411c9l29led\n",
            "Resolving www.dropbox.com (www.dropbox.com)... 162.125.2.18, 2620:100:6017:18::a27d:212\n",
            "Connecting to www.dropbox.com (www.dropbox.com)|162.125.2.18|:443... connected.\n",
            "HTTP request sent, awaiting response... 302 Found\n",
            "Location: https://uc1d4874ade1d7b1d05abbc144cd.dl.dropboxusercontent.com/cd/0/inline/CXV-_uWp1jIraoMaUtbIcGQeckpumu7Jba-_44hm9Px-9oOLxZvr1MpODVTJgWBineivFp-91LNcoElN4RZKlGIjIwos_jeCkQtvTV5iloxEz-o_ZTsTRITxKTcegVzHGAvdHHomIzmtYUG89ssn_TvK/file# [following]\n",
            "--2024-07-25 12:09:38--  https://uc1d4874ade1d7b1d05abbc144cd.dl.dropboxusercontent.com/cd/0/inline/CXV-_uWp1jIraoMaUtbIcGQeckpumu7Jba-_44hm9Px-9oOLxZvr1MpODVTJgWBineivFp-91LNcoElN4RZKlGIjIwos_jeCkQtvTV5iloxEz-o_ZTsTRITxKTcegVzHGAvdHHomIzmtYUG89ssn_TvK/file\n",
            "Resolving uc1d4874ade1d7b1d05abbc144cd.dl.dropboxusercontent.com (uc1d4874ade1d7b1d05abbc144cd.dl.dropboxusercontent.com)... 162.125.65.15, 2620:100:6022:15::a27d:420f\n",
            "Connecting to uc1d4874ade1d7b1d05abbc144cd.dl.dropboxusercontent.com (uc1d4874ade1d7b1d05abbc144cd.dl.dropboxusercontent.com)|162.125.65.15|:443... connected.\n",
            "HTTP request sent, awaiting response... 302 Found\n",
            "Location: /cd/0/inline2/CXUXkbBCd1i7pCyat4Q4EP2VEi4N33nAzoO_nbykEdDcG1_BguW6Redba7UisxJUu6opN6Ku-iOz9iZDIeebVQYxM2E8z0qGHXR7xlN3mn530vAG_VhNS5F8F-gve48jFSklJh1CxCXCNZuXP67oJ0Kb2X1PXE48MlFT-RBCuyyNemd8Dyzr3ea-qPWFFjfPpsonIxhKqg_lrdJVTkoak76shrP04-pEXURKZyWR70PgyiHKA8kqckwwzPsxa1HdqMTjOJ-24-vZ_LFB-2akqSBQ6tqGl86Axk9S2oJ9BvsJgErraj0LP9TSWULOJeJMCr6L1vdIz2k5ii37zAf0Hed1ZYErLFPAJbBsjP1ziQss0RBP5tFQGHtv00zWak_NVPI/file [following]\n",
            "--2024-07-25 12:09:39--  https://uc1d4874ade1d7b1d05abbc144cd.dl.dropboxusercontent.com/cd/0/inline2/CXUXkbBCd1i7pCyat4Q4EP2VEi4N33nAzoO_nbykEdDcG1_BguW6Redba7UisxJUu6opN6Ku-iOz9iZDIeebVQYxM2E8z0qGHXR7xlN3mn530vAG_VhNS5F8F-gve48jFSklJh1CxCXCNZuXP67oJ0Kb2X1PXE48MlFT-RBCuyyNemd8Dyzr3ea-qPWFFjfPpsonIxhKqg_lrdJVTkoak76shrP04-pEXURKZyWR70PgyiHKA8kqckwwzPsxa1HdqMTjOJ-24-vZ_LFB-2akqSBQ6tqGl86Axk9S2oJ9BvsJgErraj0LP9TSWULOJeJMCr6L1vdIz2k5ii37zAf0Hed1ZYErLFPAJbBsjP1ziQss0RBP5tFQGHtv00zWak_NVPI/file\n",
            "Reusing existing connection to uc1d4874ade1d7b1d05abbc144cd.dl.dropboxusercontent.com:443.\n",
            "HTTP request sent, awaiting response... 200 OK\n",
            "Length: 210668667 (201M) [application/zip]\n",
            "Saving to: ‘data_Adeola_July21.zip?rlkey=ve5oufd1b5hy7x411c9l29led’\n",
            "\n",
            "data_Adeola_July21. 100%[===================>] 200.91M  22.5MB/s    in 9.8s    \n",
            "\n",
            "2024-07-25 12:09:49 (20.5 MB/s) - ‘data_Adeola_July21.zip?rlkey=ve5oufd1b5hy7x411c9l29led’ saved [210668667/210668667]\n",
            "\n"
          ]
        }
      ]
    },
    {
      "cell_type": "code",
      "source": [
        "!unzip /content/data_Adeola_July21.zip -d /content/blaes_data"
      ],
      "metadata": {
        "colab": {
          "base_uri": "https://localhost:8080/"
        },
        "id": "csRc1743SP1m",
        "outputId": "47c74be3-6438-4e6b-f058-ffc4f4cd8dd7"
      },
      "execution_count": null,
      "outputs": [
        {
          "output_type": "stream",
          "name": "stdout",
          "text": [
            "Archive:  /content/data_Adeola_July21.zip\n",
            "   creating: /content/blaes_data/BLAES_test/\n",
            "   creating: /content/blaes_data/BLAES_test/BJ_imageset2/\n",
            "  inflating: /content/blaes_data/BLAES_test/BJ_imageset2/Events.npy  \n",
            "  inflating: /content/blaes_data/BLAES_test/BJ_imageset2/StudyOutcomes.csv  \n",
            "  inflating: /content/blaes_data/BLAES_test/BJ_imageset2/FoundationData.npy  \n",
            "   creating: /content/blaes_data/BLAES_test/UIC2_imageset1/\n",
            "  inflating: /content/blaes_data/BLAES_test/UIC2_imageset1/Events.npy  \n",
            "  inflating: /content/blaes_data/BLAES_test/UIC2_imageset1/StudyOutcomes.csv  \n",
            "  inflating: /content/blaes_data/BLAES_test/UIC2_imageset1/FoundationData.npy  \n",
            "   creating: /content/blaes_data/BLAES_test/UIC1_imageset1/\n",
            "  inflating: /content/blaes_data/BLAES_test/UIC1_imageset1/Events.npy  \n",
            "  inflating: /content/blaes_data/BLAES_test/UIC1_imageset1/StudyOutcomes.csv  \n",
            "  inflating: /content/blaes_data/BLAES_test/UIC1_imageset1/FoundationData.npy  \n"
          ]
        }
      ]
    },
    {
      "cell_type": "code",
      "source": [
        "!pip install mne"
      ],
      "metadata": {
        "colab": {
          "base_uri": "https://localhost:8080/"
        },
        "id": "NXq7KNczStnw",
        "outputId": "248b2a36-0135-4324-9027-bf3b58845ac8"
      },
      "execution_count": null,
      "outputs": [
        {
          "output_type": "stream",
          "name": "stdout",
          "text": [
            "Collecting mne\n",
            "  Downloading mne-1.7.1-py3-none-any.whl.metadata (13 kB)\n",
            "Requirement already satisfied: decorator in /usr/local/lib/python3.10/dist-packages (from mne) (4.4.2)\n",
            "Requirement already satisfied: jinja2 in /usr/local/lib/python3.10/dist-packages (from mne) (3.1.4)\n",
            "Requirement already satisfied: lazy-loader>=0.3 in /usr/local/lib/python3.10/dist-packages (from mne) (0.4)\n",
            "Requirement already satisfied: matplotlib>=3.5.0 in /usr/local/lib/python3.10/dist-packages (from mne) (3.7.1)\n",
            "Requirement already satisfied: numpy>=1.21.2 in /usr/local/lib/python3.10/dist-packages (from mne) (1.25.2)\n",
            "Requirement already satisfied: packaging in /usr/local/lib/python3.10/dist-packages (from mne) (24.1)\n",
            "Requirement already satisfied: pooch>=1.5 in /usr/local/lib/python3.10/dist-packages (from mne) (1.8.2)\n",
            "Requirement already satisfied: scipy>=1.7.1 in /usr/local/lib/python3.10/dist-packages (from mne) (1.11.4)\n",
            "Requirement already satisfied: tqdm in /usr/local/lib/python3.10/dist-packages (from mne) (4.66.4)\n",
            "Requirement already satisfied: contourpy>=1.0.1 in /usr/local/lib/python3.10/dist-packages (from matplotlib>=3.5.0->mne) (1.2.1)\n",
            "Requirement already satisfied: cycler>=0.10 in /usr/local/lib/python3.10/dist-packages (from matplotlib>=3.5.0->mne) (0.12.1)\n",
            "Requirement already satisfied: fonttools>=4.22.0 in /usr/local/lib/python3.10/dist-packages (from matplotlib>=3.5.0->mne) (4.53.1)\n",
            "Requirement already satisfied: kiwisolver>=1.0.1 in /usr/local/lib/python3.10/dist-packages (from matplotlib>=3.5.0->mne) (1.4.5)\n",
            "Requirement already satisfied: pillow>=6.2.0 in /usr/local/lib/python3.10/dist-packages (from matplotlib>=3.5.0->mne) (9.4.0)\n",
            "Requirement already satisfied: pyparsing>=2.3.1 in /usr/local/lib/python3.10/dist-packages (from matplotlib>=3.5.0->mne) (3.1.2)\n",
            "Requirement already satisfied: python-dateutil>=2.7 in /usr/local/lib/python3.10/dist-packages (from matplotlib>=3.5.0->mne) (2.8.2)\n",
            "Requirement already satisfied: platformdirs>=2.5.0 in /usr/local/lib/python3.10/dist-packages (from pooch>=1.5->mne) (4.2.2)\n",
            "Requirement already satisfied: requests>=2.19.0 in /usr/local/lib/python3.10/dist-packages (from pooch>=1.5->mne) (2.31.0)\n",
            "Requirement already satisfied: MarkupSafe>=2.0 in /usr/local/lib/python3.10/dist-packages (from jinja2->mne) (2.1.5)\n",
            "Requirement already satisfied: six>=1.5 in /usr/local/lib/python3.10/dist-packages (from python-dateutil>=2.7->matplotlib>=3.5.0->mne) (1.16.0)\n",
            "Requirement already satisfied: charset-normalizer<4,>=2 in /usr/local/lib/python3.10/dist-packages (from requests>=2.19.0->pooch>=1.5->mne) (3.3.2)\n",
            "Requirement already satisfied: idna<4,>=2.5 in /usr/local/lib/python3.10/dist-packages (from requests>=2.19.0->pooch>=1.5->mne) (3.7)\n",
            "Requirement already satisfied: urllib3<3,>=1.21.1 in /usr/local/lib/python3.10/dist-packages (from requests>=2.19.0->pooch>=1.5->mne) (2.0.7)\n",
            "Requirement already satisfied: certifi>=2017.4.17 in /usr/local/lib/python3.10/dist-packages (from requests>=2.19.0->pooch>=1.5->mne) (2024.7.4)\n",
            "Downloading mne-1.7.1-py3-none-any.whl (7.4 MB)\n",
            "\u001b[2K   \u001b[90m━━━━━━━━━━━━━━━━━━━━━━━━━━━━━━━━━━━━━━━━\u001b[0m \u001b[32m7.4/7.4 MB\u001b[0m \u001b[31m76.1 MB/s\u001b[0m eta \u001b[36m0:00:00\u001b[0m\n",
            "\u001b[?25hInstalling collected packages: mne\n",
            "Successfully installed mne-1.7.1\n"
          ]
        }
      ]
    },
    {
      "cell_type": "code",
      "source": [
        "data_path = \"/content/blaes_data/BLAES_test\""
      ],
      "metadata": {
        "id": "fQ2uTQiKSFkH"
      },
      "execution_count": null,
      "outputs": []
    },
    {
      "cell_type": "code",
      "source": [
        "import numpy as np\n",
        "import os\n",
        "import pandas as pd\n",
        "import torch\n",
        "from torch.utils.data import Dataset\n",
        "import mne"
      ],
      "metadata": {
        "id": "1y6aq4lDSZ3X"
      },
      "execution_count": null,
      "outputs": []
    },
    {
      "cell_type": "code",
      "execution_count": null,
      "metadata": {
        "id": "fNLRVdwOQPyx"
      },
      "outputs": [],
      "source": [
        "class CustomBIPDataset(Dataset):\n",
        "    def __init__(self, file_paths, labels):\n",
        "        self.data = []\n",
        "        self.labels = []\n",
        "        for data_path, label_path in zip(file_paths, labels):\n",
        "            foundation_data = np.load(data_path)\n",
        "            # events_data = np.load(label_path)\n",
        "            events_data = pd.read_csv(label_path)[\"Outcome\"].to_list()\n",
        "            # or np.isnan(events_data).any():\n",
        "            if np.isnan(foundation_data).any():\n",
        "                print(\n",
        "                    f\"\\nNaN values found in data: {data_path} or {label_path} !!!!!!!\")\n",
        "                continue  # Skip this data\n",
        "\n",
        "            M = foundation_data.shape[0]\n",
        "\n",
        "            # slices = foundation_data[:, :, 3101:4001]\n",
        "            slices = foundation_data[:, np.r_[0:9, 19], 3101:4001]\n",
        "            for i in range(M):\n",
        "                self.data.append(slices[i])\n",
        "                # if events_data[i, -1] == 0:\n",
        "                #     self.labels.append(0)\n",
        "                # elif events_data[i, -1] == 1:\n",
        "                #     self.labels.append(1)\n",
        "                if events_data[i] == \"Miss\":\n",
        "                    self.labels.append(0)\n",
        "                elif events_data[i] == \"Hit\":\n",
        "                    self.labels.append(1)\n",
        "\n",
        "    def __len__(self):\n",
        "        return len(self.data)\n",
        "\n",
        "    def __getitem__(self, idx):\n",
        "        sample = torch.tensor(self.data[idx], dtype=torch.float32)\n",
        "        label = torch.tensor(self.labels[idx], dtype=torch.long)\n",
        "        # print(\"sample shape is: \", sample.shape)\n",
        "        # print(\"label is: \", label)\n",
        "        return sample, label\n",
        "\n",
        "\n",
        "def get_subject_paths(base_dir):\n",
        "    subject_paths = []\n",
        "    walk_list = list(os.walk(base_dir))\n",
        "    sorted_walk_list = sorted(walk_list, key=lambda x: x[0])\n",
        "\n",
        "    for root, dirs, files in sorted_walk_list:\n",
        "        if 'FoundationData.npy' in files and 'Events.npy' in files:\n",
        "            subject_paths.append(root)\n",
        "    return subject_paths\n",
        "\n",
        "\n",
        "def load_data(base_dir):\n",
        "    subject_paths = get_subject_paths(base_dir)\n",
        "    foundation_files = [os.path.join(path, 'FoundationData.npy')\n",
        "                        for path in subject_paths]\n",
        "    # event_files = [os.path.join(path, 'Events.npy') for path in subject_paths]\n",
        "    event_files = [os.path.join(path, 'StudyOutcomes.csv')\n",
        "                   for path in subject_paths]\n",
        "    subjects = [os.path.basename(path).split('_')[0] for path in subject_paths]\n",
        "    # subjects = [x for x in subjects if x != 'BJH018']\n",
        "    return foundation_files, event_files, subjects"
      ]
    },
    {
      "cell_type": "code",
      "source": [
        "foundation_files, event_files, subjects = load_data(data_path)"
      ],
      "metadata": {
        "id": "BrZjjYhjTAhZ"
      },
      "execution_count": null,
      "outputs": []
    },
    {
      "cell_type": "code",
      "source": [
        "foundation_files[0], event_files[0]"
      ],
      "metadata": {
        "colab": {
          "base_uri": "https://localhost:8080/"
        },
        "id": "7erhHOmcTX1I",
        "outputId": "6fc786e5-f7d7-488b-da86-a5d0e3f21c70"
      },
      "execution_count": null,
      "outputs": [
        {
          "output_type": "execute_result",
          "data": {
            "text/plain": [
              "('/content/blaes_data/BLAES_test/BJ_imageset2/FoundationData.npy',\n",
              " '/content/blaes_data/BLAES_test/BJ_imageset2/StudyOutcomes.csv')"
            ]
          },
          "metadata": {},
          "execution_count": 128
        }
      ]
    },
    {
      "cell_type": "code",
      "source": [
        "subjectzero = CustomBIPDataset(foundation_files[0:1], event_files[0:1])\n",
        "subjectone = CustomBIPDataset(foundation_files[1:2], event_files[1:2])\n",
        "subjecttwo = CustomBIPDataset(foundation_files[2:3], event_files[2:3])"
      ],
      "metadata": {
        "id": "0efI5BuoTKae"
      },
      "execution_count": null,
      "outputs": []
    },
    {
      "cell_type": "code",
      "source": [
        "subjectzero_data, subjectzero_labels = np.array(subjectzero.data), np.array(subjectzero.labels)\n",
        "subjectone_data, subjectone_labels = np.array(subjectone.data), np.array(subjectone.labels)\n",
        "subjecttwo_data, subjecttwo_labels = np.array(subjecttwo.data), np.array(subjecttwo.labels)"
      ],
      "metadata": {
        "id": "zJB6hnx5W5re"
      },
      "execution_count": null,
      "outputs": []
    },
    {
      "cell_type": "code",
      "source": [
        "from sklearn.cluster import KMeans"
      ],
      "metadata": {
        "id": "p_HYBKtjebho"
      },
      "execution_count": null,
      "outputs": []
    },
    {
      "cell_type": "code",
      "source": [
        "from mne.filter import filter_data"
      ],
      "metadata": {
        "id": "pgkSzt5YowIR"
      },
      "execution_count": null,
      "outputs": []
    },
    {
      "cell_type": "code",
      "source": [
        "Fs = 500 #sampling frequency\n",
        "num_channels = 10 #number of channels\n",
        "num_outputs_model1 = 64\n",
        "num_outputs_model2 = 56\n",
        "pretraining_sample_size = 300\n",
        "num_clusters = 4\n",
        "model1_outputsize = 64"
      ],
      "metadata": {
        "id": "-3vVxsCkPH_W"
      },
      "execution_count": null,
      "outputs": []
    },
    {
      "cell_type": "code",
      "source": [
        "subjectzero_data.shape, subjectone_data.shape, subjecttwo_data.shape"
      ],
      "metadata": {
        "colab": {
          "base_uri": "https://localhost:8080/"
        },
        "id": "XmcQy0E2sDwu",
        "outputId": "895ed26c-92ea-4c1d-e26f-75bde2b9622a"
      },
      "execution_count": null,
      "outputs": [
        {
          "output_type": "execute_result",
          "data": {
            "text/plain": [
              "((153, 10, 900), (153, 10, 900), (153, 10, 900))"
            ]
          },
          "metadata": {},
          "execution_count": 134
        }
      ]
    },
    {
      "cell_type": "code",
      "source": [
        "def make_D_prime():\n",
        "  X_train = np.concatenate([subjectzero_data[:, :num_channels, :], subjectone_data[:, :num_channels, :]])\n",
        "\n",
        "  #X_train = np.reshape(X_train, newshape = (-1, 1, X_train.shape[-1]))\n",
        "\n",
        "  num_train = X_train.shape[0]\n",
        "  train_indices = np.random.RandomState(42).permutation(num_train)\n",
        "\n",
        "  num_samples = pretraining_sample_size\n",
        "  X_train = X_train[train_indices[:num_samples], ...]\n",
        "\n",
        "  num_samples_per_class = num_samples//5\n",
        "\n",
        "  classone_x = filter_data(X_train[:num_samples_per_class, :, :], sfreq = 500, l_freq = 4, h_freq = 0.5, verbose=False)\n",
        "  classone_y = np.zeros(num_samples_per_class)\n",
        "\n",
        "  classtwo_x = filter_data(X_train[num_samples_per_class:2*num_samples_per_class, :, :], sfreq = 500, l_freq = 8, h_freq = 4, verbose=False)\n",
        "  classtwo_y = np.ones(num_samples_per_class)\n",
        "\n",
        "  classthree_x = filter_data(X_train[2*num_samples_per_class:3*num_samples_per_class, :, :], sfreq = 500, l_freq = 15, h_freq = 8, verbose=False)\n",
        "  classthree_y = np.ones(num_samples_per_class)*2\n",
        "\n",
        "  classfour_x = filter_data(X_train[3*num_samples_per_class:4*num_samples_per_class, :, :], sfreq = 500, l_freq =30, h_freq = 15, verbose=False)\n",
        "  classfour_y = np.ones(num_samples_per_class)*3\n",
        "\n",
        "  classfive_x = filter_data(X_train[4*num_samples_per_class:5*num_samples_per_class, :, :], sfreq = 500, l_freq =59, h_freq = 30, verbose=False)\n",
        "  classfive_y = np.ones(num_samples_per_class)*4\n",
        "\n",
        "  output = [(classone_x, classone_y), (classtwo_x, classtwo_y), (classthree_x, classthree_y), (classfour_x, classfour_y), (classfive_x, classfive_y)]\n",
        "\n",
        "  return output"
      ],
      "metadata": {
        "id": "J2o3JkYd0RnZ"
      },
      "execution_count": null,
      "outputs": []
    },
    {
      "cell_type": "code",
      "source": [
        "task1_data = make_D_prime()"
      ],
      "metadata": {
        "colab": {
          "base_uri": "https://localhost:8080/"
        },
        "id": "MGN44SqXnx2o",
        "outputId": "d5e8a366-a111-4a10-da85-d949d0d663f7"
      },
      "execution_count": null,
      "outputs": [
        {
          "output_type": "stream",
          "name": "stderr",
          "text": [
            "<ipython-input-180-44308ab796e6>:14: RuntimeWarning: filter_length (3301) is longer than the signal (900), distortion is likely. Reduce filter length or filter a longer signal.\n",
            "  classone_x = filter_data(X_train[:num_samples_per_class, :, :], sfreq = 500, l_freq = 4, h_freq = 0.5, verbose=False)\n"
          ]
        }
      ]
    },
    {
      "cell_type": "code",
      "source": [
        "def make_D_primeprime():\n",
        "  X_train = np.concatenate([subjectzero_data[:, :num_channels, :], subjectone_data[:, :num_channels, :]])\n",
        "\n",
        "  #X_train = np.reshape(X_train, newshape = (-1, 1, X_train.shape[-1]))\n",
        "\n",
        "  num_train = X_train.shape[0]\n",
        "  train_indices = np.random.RandomState(42).permutation(num_train)\n",
        "\n",
        "  num_samples = pretraining_sample_size\n",
        "  X_train = X_train[train_indices[:num_samples], ...]\n",
        "  num_samples_per_class = num_samples//4\n",
        "\n",
        "  def maf(x, window):\n",
        "\n",
        "    x = np.squeeze(x) # to suppress the final dimension\n",
        "    print(x.shape)\n",
        "    for ns in range(x.shape[0]):\n",
        "        for nc in range(x.shape[1]):\n",
        "            x[ns, nc] -= np.convolve(x[ns, nc], np.ones(window), 'same') / window\n",
        "    return x\n",
        "\n",
        "  def trend(x, adding=True):\n",
        "    if adding:\n",
        "        tmp = 1\n",
        "    else:\n",
        "        tmp = -1\n",
        "    x = np.squeeze(x)  # to suppress the final dimension\n",
        "    for ns in range(x.shape[0]):\n",
        "        for nc in range(x.shape[1]):\n",
        "            x[ns, nc] += tmp * (np.random.random(1) * np.linspace(0, 0.5, x.shape[-1]) - 0.5)\n",
        "    return x\n",
        "\n",
        "  def cyclo(x):\n",
        "    x = np.squeeze(x)  # to suppress the final dimension\n",
        "    for ns in range(x.shape[0]):\n",
        "        for nc in range(x.shape[1]):\n",
        "            tmp = np.random.random(1)\n",
        "            x[ns, nc] += (np.random.random(1) * np.sin(np.linspace(-np.pi + tmp, np.pi + tmp, x.shape[-1]))).squeeze()\n",
        "    return x\n",
        "\n",
        "    X[3 * int(num_samples / 4):, ...] = cyclo(X[3 * int(num_samples / 4):, ...])\n",
        "\n",
        "  classone_x = maf(X_train[:num_samples_per_class, :, :], 20)\n",
        "  classone_y = np.zeros(num_samples_per_class)\n",
        "\n",
        "  classtwo_x1 = trend(X_train[num_samples_per_class:int(1.5*num_samples_per_class), :, :], True)\n",
        "  classtwo_x2 = trend(X_train[int(1.5*num_samples_per_class):2*num_samples_per_class, :, :], False)\n",
        "  classtwo_x = np.concatenate([classtwo_x1, classtwo_x2])\n",
        "  classtwo_y = np.ones(num_samples_per_class)\n",
        "\n",
        "  classthree_x = cyclo(X_train[2*num_samples_per_class:3*num_samples_per_class, :, :])\n",
        "  classthree_y = np.ones(num_samples_per_class)*2\n",
        "\n",
        "  classfour_x = X_train[3*num_samples_per_class:4*num_samples_per_class, :, :]\n",
        "  classfour_y = np.ones(num_samples_per_class)*3\n",
        "\n",
        "\n",
        "\n",
        "  return [(classone_x, classone_y), (classtwo_x, classtwo_y), (classthree_x, classthree_y), (classfour_x, classfour_y)]"
      ],
      "metadata": {
        "id": "DURU2Jh9zjwM"
      },
      "execution_count": null,
      "outputs": []
    },
    {
      "cell_type": "code",
      "source": [
        "task2_data = make_D_primeprime()"
      ],
      "metadata": {
        "colab": {
          "base_uri": "https://localhost:8080/"
        },
        "id": "ZHgBkV9QySqA",
        "outputId": "acaa27d4-4e46-4595-9d3d-857e217b5a18"
      },
      "execution_count": null,
      "outputs": [
        {
          "output_type": "stream",
          "name": "stdout",
          "text": [
            "(75, 10, 900)\n"
          ]
        }
      ]
    },
    {
      "cell_type": "code",
      "source": [
        "import matplotlib.pyplot as plt"
      ],
      "metadata": {
        "id": "2ZdQmd2S2lah"
      },
      "execution_count": null,
      "outputs": []
    },
    {
      "cell_type": "code",
      "source": [
        "plt.plot(task2_data[3][0][4, 0, :])"
      ],
      "metadata": {
        "colab": {
          "base_uri": "https://localhost:8080/",
          "height": 447
        },
        "id": "cS9YGSWO2xqq",
        "outputId": "661cd1df-126c-44a7-a34a-f48435944ba0"
      },
      "execution_count": null,
      "outputs": [
        {
          "output_type": "execute_result",
          "data": {
            "text/plain": [
              "[<matplotlib.lines.Line2D at 0x78b082d31060>]"
            ]
          },
          "metadata": {},
          "execution_count": 140
        },
        {
          "output_type": "display_data",
          "data": {
            "text/plain": [
              "<Figure size 640x480 with 1 Axes>"
            ],
            "image/png": "[encoded data removed]"
          },
          "metadata": {}
        }
      ]
    },
    {
      "cell_type": "code",
      "source": [
        "task1_data_x = np.concatenate([x[0] for x in task1_data])\n",
        "task1_data_y = np.concatenate([x[1] for x in task1_data])\n",
        "\n",
        "task2_data_x = np.concatenate([x[0] for x in task2_data])\n",
        "task2_data_y = np.concatenate([x[1] for x in task2_data])\n",
        "#"
      ],
      "metadata": {
        "id": "RiVpZzbQBI53"
      },
      "execution_count": null,
      "outputs": []
    },
    {
      "cell_type": "code",
      "source": [
        "task1_data_x.shape, task1_data_y.shape, task2_data_x.shape, task2_data_y.shape"
      ],
      "metadata": {
        "colab": {
          "base_uri": "https://localhost:8080/"
        },
        "id": "xtRDrHhXBaZ6",
        "outputId": "0b69e31f-e493-4ae1-bdfe-076c219d4b94"
      },
      "execution_count": null,
      "outputs": [
        {
          "output_type": "execute_result",
          "data": {
            "text/plain": [
              "((300, 10, 900), (300,), (300, 10, 900), (300,))"
            ]
          },
          "metadata": {},
          "execution_count": 142
        }
      ]
    },
    {
      "cell_type": "code",
      "source": [
        "plt.plot(task1_data_x[-80, 0, :])"
      ],
      "metadata": {
        "colab": {
          "base_uri": "https://localhost:8080/",
          "height": 451
        },
        "id": "3YOQiDQKSIkQ",
        "outputId": "c1c3ffcb-ee48-4874-eebf-50111b1eec67"
      },
      "execution_count": null,
      "outputs": [
        {
          "output_type": "execute_result",
          "data": {
            "text/plain": [
              "[<matplotlib.lines.Line2D at 0x78b0e724bf70>]"
            ]
          },
          "metadata": {},
          "execution_count": 143
        },
        {
          "output_type": "display_data",
          "data": {
            "text/plain": [
              "<Figure size 640x480 with 1 Axes>"
            ],
            "image/png": "[encoded data removed]"
          },
          "metadata": {}
        }
      ]
    },
    {
      "cell_type": "code",
      "source": [
        "class PretextDataset(Dataset):\n",
        "  def __init__(self, data, labels):\n",
        "    self.data = data\n",
        "    self.labels = labels\n",
        "  def __len__(self):\n",
        "    return self.data.shape[0]\n",
        "\n",
        "  def __getitem__(self, idx):\n",
        "    #m = np.mean(self.data[idx], axis = -1)\n",
        "    #s = np.std(self.data[idx], axis = -1)\n",
        "    #out = (self.data[idx] - m[:, np.newaxis])/s[:, np.newaxis]\n",
        "    sample = torch.tensor(self.data[idx], dtype=torch.float32)\n",
        "    label = torch.tensor(self.labels[idx], dtype=torch.long)\n",
        "    return sample,label"
      ],
      "metadata": {
        "id": "YLVDunGvBb_w"
      },
      "execution_count": null,
      "outputs": []
    },
    {
      "cell_type": "code",
      "source": [
        "task1ds = PretextDataset(task1_data_x, task1_data_y)\n",
        "task2ds = PretextDataset(task2_data_x, task2_data_y)"
      ],
      "metadata": {
        "id": "6yVcQXhLHUCt"
      },
      "execution_count": null,
      "outputs": []
    },
    {
      "cell_type": "code",
      "source": [
        "np.unique(task1ds.labels), np.unique(task2_data_y)"
      ],
      "metadata": {
        "colab": {
          "base_uri": "https://localhost:8080/"
        },
        "id": "XCPqWbeWJF0H",
        "outputId": "0781b01e-e948-400d-8a59-a363a46f60aa"
      },
      "execution_count": null,
      "outputs": [
        {
          "output_type": "execute_result",
          "data": {
            "text/plain": [
              "(array([0., 1., 2., 3., 4.]), array([0., 1., 2., 3.]))"
            ]
          },
          "metadata": {},
          "execution_count": 146
        }
      ]
    },
    {
      "cell_type": "code",
      "source": [
        "task1ds[0][0].shape"
      ],
      "metadata": {
        "colab": {
          "base_uri": "https://localhost:8080/"
        },
        "id": "uejsaCvSFr3r",
        "outputId": "87d4199c-4e86-4f34-964d-7f4f36f35aa0"
      },
      "execution_count": null,
      "outputs": [
        {
          "output_type": "execute_result",
          "data": {
            "text/plain": [
              "torch.Size([10, 900])"
            ]
          },
          "metadata": {},
          "execution_count": 147
        }
      ]
    },
    {
      "cell_type": "code",
      "source": [
        "import torch.nn as nn\n",
        "import torch.nn.functional as F\n",
        "import torch.optim as optim\n",
        "from torch.utils.data import DataLoader\n",
        "from transformers import get_scheduler"
      ],
      "metadata": {
        "id": "840jA9_oNPlT"
      },
      "execution_count": null,
      "outputs": []
    },
    {
      "cell_type": "code",
      "source": [
        "class depthwise_separable_conv(nn.Module):\n",
        "    def __init__(self, nin, kernels_per_layer, kernel_size, nout):\n",
        "        super(depthwise_separable_conv, self).__init__()\n",
        "        self.depthwise = nn.Conv2d(nin, nin * kernels_per_layer, kernel_size=kernel_size, padding=\"valid\", groups=nin) #change back to valid\n",
        "        self.pointwise = nn.Conv2d(nin * kernels_per_layer, nout, kernel_size=1)\n",
        "\n",
        "    def forward(self, x):\n",
        "        out = self.depthwise(x)\n",
        "        out = self.pointwise(out)\n",
        "        return out"
      ],
      "metadata": {
        "id": "ncZOxZW_NL0C"
      },
      "execution_count": null,
      "outputs": []
    },
    {
      "cell_type": "code",
      "source": [
        "class ModelE1(nn.Module):\n",
        "  def __init__(self):\n",
        "    super(ModelE1, self).__init__()\n",
        "    self.conv1 = depthwise_separable_conv(1, 4, (1, int(Fs/2)), 4) #nn.Conv2d(1, 64, (1, int(Fs/2)), padding=\"valid\")#\n",
        "    self.conv2 = depthwise_separable_conv(4, 8,(num_channels, 1), 8) #nn.Conv2d(64, 64, (num_channels, 1), padding=\"valid\")#\n",
        "    self.conv3 = depthwise_separable_conv(8, 16, (1, 30), 16) #nn.Conv2d(64, 64, (1, 30), padding=\"valid\")#\n",
        "    self.conv4 = depthwise_separable_conv(16, 32, (1, 15), 32) #nn.Conv2d(64, 64, (1, 15), padding=\"valid\")#\n",
        "    self.conv5 = depthwise_separable_conv(32, model1_outputsize, (1, 5), model1_outputsize) #nn.Conv2d(64, 64, (1, 5), padding=\"valid\")#\n",
        "\n",
        "    self.activation = nn.ELU()\n",
        "\n",
        "    self.classifier = nn.Linear(64, 5)\n",
        "\n",
        "    self.embedding = nn.Sequential(self.conv1, self.activation,\n",
        "                                   self.conv2,  self.activation,\n",
        "                                   self.conv3, self.activation,\n",
        "                                   self.conv4, self.activation,\n",
        "                                   self.conv5, self.activation)\n",
        "\n",
        "  def forward(self, x, return_features = False):\n",
        "    x = x.unsqueeze(1)\n",
        "    emb = self.embedding(x)\n",
        "    x = emb.mean(dim = -1).squeeze()\n",
        "    x = self.classifier(x)\n",
        "\n",
        "    if return_features:\n",
        "      return x, emb\n",
        "    else:\n",
        "      return x"
      ],
      "metadata": {
        "id": "5RvdRX9qIoOl"
      },
      "execution_count": null,
      "outputs": []
    },
    {
      "cell_type": "code",
      "source": [
        "class ModelE2(nn.Module):\n",
        "  def __init__(self, num_classes = 4):\n",
        "    super(ModelE2, self).__init__()\n",
        "    self.tconv1 = nn.Conv2d(1, 8, (1, 30), padding=\"same\")\n",
        "    self.sconv1 = nn.Conv2d(8, 8, (num_channels, 1), padding=\"valid\")\n",
        "    self.tconv2 = nn.Conv2d(8, 16, (1, 15), padding=\"same\")\n",
        "    self.sconv2 = nn.Conv2d(16, 16, (num_channels, 1), padding=\"valid\")\n",
        "    self.tconv3 = nn.Conv2d(16, 32, (1, 5), padding=\"same\")\n",
        "    self.sconv3 = nn.Conv2d(32, 32, (num_channels, 1), padding=\"valid\") #change back to valid\n",
        "\n",
        "    self.activation = nn.ELU()\n",
        "\n",
        "    self.classifier = nn.Linear(56, num_classes)\n",
        "\n",
        "  def forward(self, x, return_features = False):\n",
        "    x = x.unsqueeze(1)\n",
        "\n",
        "    t1 = self.tconv1(x)\n",
        "    t1 = self.activation(t1)\n",
        "\n",
        "    t2 = self.tconv2(t1)\n",
        "    t2 = self.activation(t2)\n",
        "\n",
        "    t3 = self.tconv3(t2)\n",
        "    t3 = self.activation(t3)\n",
        "\n",
        "    s1 = self.sconv1(t1)\n",
        "    s1 = self.activation(s1)\n",
        "\n",
        "    s2 = self.sconv2(t2)\n",
        "    s2 = self.activation(s2)\n",
        "\n",
        "    s3 = self.sconv3(t3)\n",
        "    s3 = self.activation(s3)\n",
        "\n",
        "    feats = torch.cat([s1, s2, s3], dim = 1)\n",
        "    s = feats.mean(dim = -1).squeeze()\n",
        "    s = self.classifier(s)\n",
        "\n",
        "    if return_features:\n",
        "      return s, feats\n",
        "    else:\n",
        "      return s"
      ],
      "metadata": {
        "id": "CO-7irO6VHdB"
      },
      "execution_count": null,
      "outputs": []
    },
    {
      "cell_type": "code",
      "source": [
        "def statistics(f1, f2):\n",
        "  mu = torch.squeeze(torch.cat((f1.mean(dim = -1), f2.mean(dim=-1)), 1))\n",
        "  sigma = torch.squeeze(torch.cat((f1.std(dim = -1), f2.std(dim=-1)), 1))\n",
        "  #sigma = tf.squeeze(tf.concat((tf.math.reduce_std(f1, -2), tf.math.reduce_std(f2, -2)), -1))\n",
        "  # similar to global average pooling on the temporal dimension\n",
        "  f_concat = mu\n",
        "  return mu, sigma, f_concat\n",
        "\n",
        "def normalization(f_concat, mu_star, sigma_star):\n",
        "  out = (f_concat - mu_star)/(sigma_star + torch.tensor(1e-10, device = f_concat.device))\n",
        "  return out"
      ],
      "metadata": {
        "id": "typ4_B1SfmpH"
      },
      "execution_count": null,
      "outputs": []
    },
    {
      "cell_type": "code",
      "source": [
        "from transformers import set_seed"
      ],
      "metadata": {
        "id": "K7qAe9JurSmv"
      },
      "execution_count": null,
      "outputs": []
    },
    {
      "cell_type": "code",
      "source": [
        "set_seed(42)"
      ],
      "metadata": {
        "id": "pzf1gP7UrfbF"
      },
      "execution_count": null,
      "outputs": []
    },
    {
      "cell_type": "code",
      "source": [
        "mm1 = ModelE1()\n",
        "mm2 = ModelE2(4)"
      ],
      "metadata": {
        "id": "vgSwRDuLiV1D"
      },
      "execution_count": null,
      "outputs": []
    },
    {
      "cell_type": "code",
      "source": [
        "task1_dl = DataLoader(task1ds, batch_size = 64, shuffle = True)\n",
        "task2_dl = DataLoader(task2ds, batch_size = 64, shuffle = True)"
      ],
      "metadata": {
        "id": "axp0rX2xmcla"
      },
      "execution_count": null,
      "outputs": []
    },
    {
      "cell_type": "code",
      "source": [
        "num_epochs1 = 200\n",
        "num_epochs = 20\n",
        "device = torch.device(\"cuda\" if torch.cuda.is_available() else \"cpu\")"
      ],
      "metadata": {
        "id": "H3voWsQCpHcN"
      },
      "execution_count": null,
      "outputs": []
    },
    {
      "cell_type": "code",
      "source": [
        "optimizer1 = optim.AdamW(mm1.parameters(), lr = 1e-1, weight_decay=0.01)\n",
        "optimizer2 = optim.AdamW(mm2.parameters(), lr = 1e-1, weight_decay = 0.01)\n",
        "\n",
        "scheduler1 = get_scheduler(\"linear\", optimizer1, num_warmup_steps=0, num_training_steps=num_epochs1*len(task1_dl))\n",
        "scheduler2 = get_scheduler(\"linear\", optimizer2, num_warmup_steps=0, num_training_steps=num_epochs*len(task2_dl))"
      ],
      "metadata": {
        "id": "61kWFdMViyd6"
      },
      "execution_count": null,
      "outputs": []
    },
    {
      "cell_type": "code",
      "source": [
        "mm1.train()\n",
        "for epoch in range(num_epochs1):\n",
        "  for batch in task1_dl:\n",
        "\n",
        "    mm1.to(device)\n",
        "\n",
        "    optimizer1.zero_grad()\n",
        "\n",
        "    x, y = batch\n",
        "    x = x.to(device)\n",
        "    y = y.to(device)\n",
        "\n",
        "    out = mm1(x)\n",
        "    loss = F.cross_entropy(out, y)\n",
        "    loss.backward()\n",
        "    optimizer1.step()\n",
        "    scheduler1.step()\n",
        "  print(f\"Epoch {epoch+1} loss: {loss.item()}\")"
      ],
      "metadata": {
        "colab": {
          "base_uri": "https://localhost:8080/"
        },
        "id": "b5G42bMvmULn",
        "outputId": "4b4ba2fb-3c54-43d5-fbf6-35d16ac562b2"
      },
      "execution_count": null,
      "outputs": [
        {
          "output_type": "stream",
          "name": "stdout",
          "text": [
            "Epoch 1 loss: 40809.47265625\n",
            "Epoch 2 loss: 3604.675537109375\n",
            "Epoch 3 loss: 1475271.75\n",
            "Epoch 4 loss: 428.08575439453125\n",
            "Epoch 5 loss: 176.66651916503906\n",
            "Epoch 6 loss: 129.86212158203125\n",
            "Epoch 7 loss: 87.92449951171875\n",
            "Epoch 8 loss: 29.512107849121094\n",
            "Epoch 9 loss: 38125180.0\n",
            "Epoch 10 loss: 18.076631546020508\n",
            "Epoch 11 loss: 18.391115188598633\n",
            "Epoch 12 loss: 14.830248832702637\n",
            "Epoch 13 loss: 17.655025482177734\n",
            "Epoch 14 loss: 17.191007614135742\n",
            "Epoch 15 loss: 19.75379180908203\n",
            "Epoch 16 loss: 17.447221755981445\n",
            "Epoch 17 loss: 17.473752975463867\n",
            "Epoch 18 loss: 16.090938568115234\n",
            "Epoch 19 loss: 16.142576217651367\n",
            "Epoch 20 loss: 13.022902488708496\n",
            "Epoch 21 loss: 11.59434986114502\n",
            "Epoch 22 loss: 15.656882286071777\n",
            "Epoch 23 loss: 11.004977226257324\n",
            "Epoch 24 loss: 12.029277801513672\n",
            "Epoch 25 loss: 11.980257987976074\n",
            "Epoch 26 loss: 11.823639869689941\n",
            "Epoch 27 loss: 10.87825870513916\n",
            "Epoch 28 loss: 13.141989707946777\n",
            "Epoch 29 loss: 10.833165168762207\n",
            "Epoch 30 loss: 10.002285957336426\n",
            "Epoch 31 loss: 8.959026336669922\n",
            "Epoch 32 loss: 9.86324405670166\n",
            "Epoch 33 loss: 8.907465934753418\n",
            "Epoch 34 loss: 8.026134490966797\n",
            "Epoch 35 loss: 5.892947673797607\n",
            "Epoch 36 loss: 8.381537437438965\n",
            "Epoch 37 loss: 8.336248397827148\n",
            "Epoch 38 loss: 4.56314754486084\n",
            "Epoch 39 loss: 6.661318778991699\n",
            "Epoch 40 loss: 5.321467399597168\n",
            "Epoch 41 loss: 4.905118942260742\n",
            "Epoch 42 loss: 4.786432266235352\n",
            "Epoch 43 loss: 5.367172718048096\n",
            "Epoch 44 loss: 4.441277027130127\n",
            "Epoch 45 loss: 3.879786491394043\n",
            "Epoch 46 loss: 3.723304510116577\n",
            "Epoch 47 loss: 3.061161994934082\n",
            "Epoch 48 loss: 2.8117775917053223\n",
            "Epoch 49 loss: 2.628955841064453\n",
            "Epoch 50 loss: 2.3409764766693115\n",
            "Epoch 51 loss: 2.136153221130371\n",
            "Epoch 52 loss: 1.869660496711731\n",
            "Epoch 53 loss: 1.9567890167236328\n",
            "Epoch 54 loss: 2.011240243911743\n",
            "Epoch 55 loss: 1.75566828250885\n",
            "Epoch 56 loss: 1.6131209135055542\n",
            "Epoch 57 loss: 1.6559290885925293\n",
            "Epoch 58 loss: 1.6252273321151733\n",
            "Epoch 59 loss: 1.6843310594558716\n",
            "Epoch 60 loss: 1.6161373853683472\n",
            "Epoch 61 loss: 1.6164008378982544\n",
            "Epoch 62 loss: 1.6137946844100952\n",
            "Epoch 63 loss: 1.6105334758758545\n",
            "Epoch 64 loss: 1.6158870458602905\n",
            "Epoch 65 loss: 1.611219048500061\n",
            "Epoch 66 loss: 1.6104731559753418\n",
            "Epoch 67 loss: 1.6171597242355347\n",
            "Epoch 68 loss: 1.6083340644836426\n",
            "Epoch 69 loss: 1.6072996854782104\n",
            "Epoch 70 loss: 1.610203504562378\n",
            "Epoch 71 loss: 1.6092133522033691\n",
            "Epoch 72 loss: 1.6110543012619019\n",
            "Epoch 73 loss: 1.6091381311416626\n",
            "Epoch 74 loss: 1.6108514070510864\n",
            "Epoch 75 loss: 1.6115607023239136\n",
            "Epoch 76 loss: 1.6088541746139526\n",
            "Epoch 77 loss: 1.6091716289520264\n",
            "Epoch 78 loss: 1.6093189716339111\n",
            "Epoch 79 loss: 1.6082980632781982\n",
            "Epoch 80 loss: 1.610025405883789\n",
            "Epoch 81 loss: 1.609327793121338\n",
            "Epoch 82 loss: 1.6102478504180908\n",
            "Epoch 83 loss: 1.6128036975860596\n",
            "Epoch 84 loss: 1.6119980812072754\n",
            "Epoch 85 loss: 1.610560655593872\n",
            "Epoch 86 loss: 1.6108700037002563\n",
            "Epoch 87 loss: 1.6094807386398315\n",
            "Epoch 88 loss: 1.6095865964889526\n",
            "Epoch 89 loss: 1.6095077991485596\n",
            "Epoch 90 loss: 1.6099244356155396\n",
            "Epoch 91 loss: 1.608526587486267\n",
            "Epoch 92 loss: 1.6101096868515015\n",
            "Epoch 93 loss: 1.6112459897994995\n",
            "Epoch 94 loss: 1.608567476272583\n",
            "Epoch 95 loss: 1.6155056953430176\n",
            "Epoch 96 loss: 1.6114016771316528\n",
            "Epoch 97 loss: 1.6106860637664795\n",
            "Epoch 98 loss: 1.609673261642456\n",
            "Epoch 99 loss: 1.6105122566223145\n",
            "Epoch 100 loss: 1.6135047674179077\n",
            "Epoch 101 loss: 1.611151099205017\n",
            "Epoch 102 loss: 1.611305594444275\n",
            "Epoch 103 loss: 1.6111449003219604\n",
            "Epoch 104 loss: 1.6088207960128784\n",
            "Epoch 105 loss: 1.6098437309265137\n",
            "Epoch 106 loss: 1.6089694499969482\n",
            "Epoch 107 loss: 1.6101313829421997\n",
            "Epoch 108 loss: 1.6115649938583374\n",
            "Epoch 109 loss: 1.6092480421066284\n",
            "Epoch 110 loss: 1.6103631258010864\n",
            "Epoch 111 loss: 1.6098634004592896\n",
            "Epoch 112 loss: 1.609121322631836\n",
            "Epoch 113 loss: 1.6088789701461792\n",
            "Epoch 114 loss: 1.6105632781982422\n",
            "Epoch 115 loss: 1.609740138053894\n",
            "Epoch 116 loss: 1.6092571020126343\n",
            "Epoch 117 loss: 1.608495831489563\n",
            "Epoch 118 loss: 1.6120272874832153\n",
            "Epoch 119 loss: 1.6085021495819092\n",
            "Epoch 120 loss: 1.6106101274490356\n",
            "Epoch 121 loss: 1.6089744567871094\n",
            "Epoch 122 loss: 1.6119053363800049\n",
            "Epoch 123 loss: 1.610532283782959\n",
            "Epoch 124 loss: 1.6085869073867798\n",
            "Epoch 125 loss: 1.6090118885040283\n",
            "Epoch 126 loss: 1.6087895631790161\n",
            "Epoch 127 loss: 1.6099969148635864\n",
            "Epoch 128 loss: 1.6107470989227295\n",
            "Epoch 129 loss: 1.6085759401321411\n",
            "Epoch 130 loss: 1.608911156654358\n",
            "Epoch 131 loss: 1.609525203704834\n",
            "Epoch 132 loss: 1.6089253425598145\n",
            "Epoch 133 loss: 1.6097744703292847\n",
            "Epoch 134 loss: 1.6120835542678833\n",
            "Epoch 135 loss: 1.6101301908493042\n",
            "Epoch 136 loss: 1.6090221405029297\n",
            "Epoch 137 loss: 1.6094669103622437\n",
            "Epoch 138 loss: 1.6097525358200073\n",
            "Epoch 139 loss: 1.6093562841415405\n",
            "Epoch 140 loss: 1.6096580028533936\n",
            "Epoch 141 loss: 1.6115115880966187\n",
            "Epoch 142 loss: 1.6090675592422485\n",
            "Epoch 143 loss: 1.6109836101531982\n",
            "Epoch 144 loss: 1.608352780342102\n",
            "Epoch 145 loss: 1.6109997034072876\n",
            "Epoch 146 loss: 1.608940601348877\n",
            "Epoch 147 loss: 1.6093463897705078\n",
            "Epoch 148 loss: 1.6110080480575562\n",
            "Epoch 149 loss: 1.6101337671279907\n",
            "Epoch 150 loss: 1.6093586683273315\n",
            "Epoch 151 loss: 1.6112595796585083\n",
            "Epoch 152 loss: 1.6095486879348755\n",
            "Epoch 153 loss: 1.6104919910430908\n",
            "Epoch 154 loss: 1.610700249671936\n",
            "Epoch 155 loss: 1.6094613075256348\n",
            "Epoch 156 loss: 1.6099598407745361\n",
            "Epoch 157 loss: 1.6092737913131714\n",
            "Epoch 158 loss: 1.6085968017578125\n",
            "Epoch 159 loss: 1.6089378595352173\n",
            "Epoch 160 loss: 1.608615517616272\n",
            "Epoch 161 loss: 1.6109927892684937\n",
            "Epoch 162 loss: 1.6106072664260864\n",
            "Epoch 163 loss: 1.6106144189834595\n",
            "Epoch 164 loss: 1.610408902168274\n",
            "Epoch 165 loss: 1.6085454225540161\n",
            "Epoch 166 loss: 1.6104512214660645\n",
            "Epoch 167 loss: 1.6091631650924683\n",
            "Epoch 168 loss: 1.6094956398010254\n",
            "Epoch 169 loss: 1.6091746091842651\n",
            "Epoch 170 loss: 1.6097661256790161\n",
            "Epoch 171 loss: 1.608961582183838\n",
            "Epoch 172 loss: 1.6101185083389282\n",
            "Epoch 173 loss: 1.610319972038269\n",
            "Epoch 174 loss: 1.6101676225662231\n",
            "Epoch 175 loss: 1.6091910600662231\n",
            "Epoch 176 loss: 1.6097908020019531\n",
            "Epoch 177 loss: 1.6095166206359863\n",
            "Epoch 178 loss: 1.6091424226760864\n",
            "Epoch 179 loss: 1.6095337867736816\n",
            "Epoch 180 loss: 1.6092289686203003\n",
            "Epoch 181 loss: 1.6086483001708984\n",
            "Epoch 182 loss: 1.6082508563995361\n",
            "Epoch 183 loss: 1.6093422174453735\n",
            "Epoch 184 loss: 1.6103343963623047\n",
            "Epoch 185 loss: 1.6093049049377441\n",
            "Epoch 186 loss: 1.6099364757537842\n",
            "Epoch 187 loss: 1.609282374382019\n",
            "Epoch 188 loss: 1.6106948852539062\n",
            "Epoch 189 loss: 1.610147476196289\n",
            "Epoch 190 loss: 1.6094226837158203\n",
            "Epoch 191 loss: 1.6093494892120361\n",
            "Epoch 192 loss: 1.6096255779266357\n",
            "Epoch 193 loss: 1.6097649335861206\n",
            "Epoch 194 loss: 1.6092244386672974\n",
            "Epoch 195 loss: 1.6088733673095703\n",
            "Epoch 196 loss: 1.6101958751678467\n",
            "Epoch 197 loss: 1.6097575426101685\n",
            "Epoch 198 loss: 1.6088931560516357\n",
            "Epoch 199 loss: 1.6096495389938354\n",
            "Epoch 200 loss: 1.609628677368164\n"
          ]
        }
      ]
    },
    {
      "cell_type": "code",
      "source": [
        "mm2.train()\n",
        "for epoch in range(num_epochs):\n",
        "  for batch in task2_dl:\n",
        "\n",
        "    mm2.to(device)\n",
        "\n",
        "    optimizer2.zero_grad()\n",
        "\n",
        "    x, y = batch\n",
        "    x = x.to(device)\n",
        "    y = y.to(device)\n",
        "\n",
        "    out = mm2(x)\n",
        "    loss = F.cross_entropy(out, y)\n",
        "    loss.backward()\n",
        "    optimizer2.step()\n",
        "    scheduler2.step()\n",
        "  print(f\"Epoch {epoch+1} loss: {loss.item()}\")"
      ],
      "metadata": {
        "colab": {
          "base_uri": "https://localhost:8080/"
        },
        "id": "B-IKvYoTn7Vw",
        "outputId": "4316df22-b795-4062-d238-3ab49097cf75"
      },
      "execution_count": null,
      "outputs": [
        {
          "output_type": "stream",
          "name": "stdout",
          "text": [
            "Epoch 1 loss: 35.80156326293945\n",
            "Epoch 2 loss: 88.52625274658203\n",
            "Epoch 3 loss: 3.2002203464508057\n",
            "Epoch 4 loss: 1.3816012144088745\n",
            "Epoch 5 loss: 0.7743499279022217\n",
            "Epoch 6 loss: 0.5222066640853882\n",
            "Epoch 7 loss: 0.26727205514907837\n",
            "Epoch 8 loss: 0.25294408202171326\n",
            "Epoch 9 loss: 0.407206654548645\n",
            "Epoch 10 loss: 0.14544501900672913\n",
            "Epoch 11 loss: 0.1833675056695938\n",
            "Epoch 12 loss: 0.1337878555059433\n",
            "Epoch 13 loss: 0.11746473610401154\n",
            "Epoch 14 loss: 0.0817602202296257\n",
            "Epoch 15 loss: 0.04930504783987999\n",
            "Epoch 16 loss: 0.08448353409767151\n",
            "Epoch 17 loss: 0.10164809972047806\n",
            "Epoch 18 loss: 0.1044878289103508\n",
            "Epoch 19 loss: 0.07128966599702835\n",
            "Epoch 20 loss: 0.0586867593228817\n"
          ]
        }
      ]
    },
    {
      "cell_type": "code",
      "source": [
        "class ModelC(nn.Module):\n",
        "  def __init__(self, num_classes = 2):\n",
        "    super(ModelC, self).__init__()\n",
        "    input_size = model1_outputsize + 56\n",
        "    self.classifiers = nn.ModuleList([nn.Linear(input_size, num_classes) for _ in range(num_clusters)])\n",
        "    self.m1 = mm1\n",
        "    self.m2 = mm2\n",
        "    self.kmeans = KMeans(n_clusters = num_clusters, init = \"k-means++\", n_init = 10)\n",
        "\n",
        "  def forward(self, x):\n",
        "    _, f1 = self.m1(x, True)\n",
        "    _, f2 = self.m2(x, True)\n",
        "    #print(f1.shape, f2.shape)\n",
        "    mu, sigma, f_concat = statistics(f1, f2)\n",
        "    #print(f_concat.shape)\n",
        "\n",
        "    self.kmeans.fit(np.concatenate((mu.detach().cpu().numpy(), sigma.detach().cpu().numpy()), -1))\n",
        "    stats = self.kmeans.cluster_centers_[self.kmeans.labels_]\n",
        "\n",
        "    mu_star, sigma_star = torch.tensor(stats[:, :input_size], device=x.device), torch.tensor(stats[:, input_size:], device=x.device)\n",
        "    f_aln = normalization(f_concat, mu_star, sigma_star)\n",
        "    #print(f_aln[0])\n",
        "\n",
        "    clusters = torch.tensor(self.kmeans.labels_)\n",
        "\n",
        "    out = []\n",
        "    for sample_cluster_idx in range(clusters.shape[0]):\n",
        "      out.append(self.classifiers[clusters[sample_cluster_idx]](f_aln[sample_cluster_idx]))\n",
        "    return torch.stack(out, 0)"
      ],
      "metadata": {
        "id": "4r5d-EMndjGv"
      },
      "execution_count": null,
      "outputs": []
    },
    {
      "cell_type": "code",
      "source": [
        "mmc = ModelC()"
      ],
      "metadata": {
        "id": "N9oG2KmOjPIE"
      },
      "execution_count": null,
      "outputs": []
    },
    {
      "cell_type": "code",
      "source": [
        "import sklearn\n",
        "from sklearn.metrics import balanced_accuracy_score"
      ],
      "metadata": {
        "id": "_ePmSOAHm4es"
      },
      "execution_count": null,
      "outputs": []
    },
    {
      "cell_type": "code",
      "source": [
        "trn_dataset = CustomBIPDataset(foundation_files[0:2], event_files[0:2])\n",
        "val_dataset = CustomBIPDataset(foundation_files[2:3], event_files[2:3])\n",
        "\n",
        "weights = sklearn.utils.class_weight.compute_class_weight('balanced', classes = np.unique(trn_dataset.labels), y = trn_dataset.labels)"
      ],
      "metadata": {
        "id": "1Hwt9nSdkwuK"
      },
      "execution_count": null,
      "outputs": []
    },
    {
      "cell_type": "code",
      "source": [
        "trn_dataset[0][0].shape"
      ],
      "metadata": {
        "colab": {
          "base_uri": "https://localhost:8080/"
        },
        "id": "AnZEzkyr3eOU",
        "outputId": "2ac886f9-9e6d-4da3-b782-d433c7d58290"
      },
      "execution_count": null,
      "outputs": [
        {
          "output_type": "execute_result",
          "data": {
            "text/plain": [
              "torch.Size([10, 900])"
            ]
          },
          "metadata": {},
          "execution_count": 165
        }
      ]
    },
    {
      "cell_type": "code",
      "source": [
        "trn_dl = DataLoader(trn_dataset, batch_size = 64, shuffle = True)\n",
        "val_dl = DataLoader(val_dataset, batch_size = 64, shuffle = False)"
      ],
      "metadata": {
        "id": "dvRVZ_dunm-P"
      },
      "execution_count": null,
      "outputs": []
    },
    {
      "cell_type": "code",
      "source": [
        "criterion = nn.CrossEntropyLoss(weight=torch.tensor(weights, dtype=torch.float32, device=device))\n",
        "\n",
        "optimizer = optim.Adam(mmc.parameters(), lr=1e-5, weight_decay = 1e-3, betas = (0.9, 0.999))\n",
        "\n",
        "scheduler = get_scheduler(\"linear\", optimizer, num_warmup_steps=0, num_training_steps=num_epochs1*len(trn_dl))"
      ],
      "metadata": {
        "id": "fdmriUMFm3Xa"
      },
      "execution_count": null,
      "outputs": []
    },
    {
      "cell_type": "code",
      "source": [
        "mean_trn_loss = []\n",
        "mean_val_loss = []\n",
        "mean_trn_acc = []\n",
        "mean_val_acc = []"
      ],
      "metadata": {
        "id": "lIGHm_49ooZI"
      },
      "execution_count": null,
      "outputs": []
    },
    {
      "cell_type": "code",
      "source": [
        "for epoch in range(num_epochs1):\n",
        "      mmc.train()\n",
        "      per_epoch_trn_loss = []\n",
        "      per_epoch_val_loss = []\n",
        "      per_epoch_trn_acc = []\n",
        "      per_epoch_val_acc = []\n",
        "      for batch_idx, (data, target) in enumerate(trn_dl):\n",
        "          mmc.to(device)\n",
        "          data = data.to(device)\n",
        "          target = target.to(device)\n",
        "          optimizer.zero_grad()\n",
        "          #print(f\"number of positives: {target.sum():.4f}\")\n",
        "\n",
        "          output = mmc(data)\n",
        "          loss = criterion(output, target)\n",
        "          per_epoch_trn_loss.append(loss.item())\n",
        "\n",
        "          loss.backward()\n",
        "\n",
        "          trn_acc = balanced_accuracy_score(target.cpu(), output.argmax(dim=-1).cpu())\n",
        "          #trn_acc = balanced_accuracy_score(target, output>=0)\n",
        "          per_epoch_trn_acc.append(trn_acc.item())\n",
        "\n",
        "          optimizer.step()\n",
        "          scheduler.step()\n",
        "\n",
        "      mmc.eval()\n",
        "      for batch_idx, (data, target) in enumerate(val_dl):\n",
        "          data = data.to(device)\n",
        "          target = target.to(device)\n",
        "          with torch.no_grad():\n",
        "              output = mmc(data)\n",
        "              loss = criterion(output, target)\n",
        "              per_epoch_val_loss.append(loss.item())\n",
        "\n",
        "              #val_acc = custom_balanced_accuracy(output.argmax(dim=-1), target)\n",
        "              val_acc = balanced_accuracy_score(target.cpu(), output.argmax(dim=-1).cpu())\n",
        "              #val_acc = balanced_accuracy_score(target, output>=0)\n",
        "              per_epoch_val_acc.append(val_acc.item())\n",
        "\n",
        "\n",
        "      mean_trn_loss.append(np.mean(per_epoch_trn_loss))\n",
        "      mean_val_loss.append(np.mean(per_epoch_val_loss))\n",
        "      #mean_norm.append(np.mean(per_epoch_norms))\n",
        "\n",
        "      mean_trn_acc.append(np.mean(per_epoch_trn_acc))\n",
        "      mean_val_acc.append(np.mean(per_epoch_val_acc))\n",
        "\n",
        "\n",
        "      print(f'Epoch {epoch+1}/{num_epochs1}, Train Loss: {np.mean(per_epoch_trn_loss):.4f}, Val Loss: {np.mean(per_epoch_val_loss):.4f}, Trn Acc: {np.mean(per_epoch_trn_acc):.4f},  Val Acc: {np.mean(per_epoch_val_acc):.4f}')"
      ],
      "metadata": {
        "colab": {
          "base_uri": "https://localhost:8080/"
        },
        "id": "y4ja2sjZLBqG",
        "outputId": "d08617b1-0415-4ce5-a6b8-4a59c09d4de7"
      },
      "execution_count": null,
      "outputs": [
        {
          "output_type": "stream",
          "name": "stdout",
          "text": [
            "Epoch 1/200, Train Loss: 24.4686, Val Loss: 0.7248, Trn Acc: 0.4831,  Val Acc: 0.4393\n",
            "Epoch 2/200, Train Loss: 227.7731, Val Loss: 0.7075, Trn Acc: 0.4433,  Val Acc: 0.5592\n",
            "Epoch 3/200, Train Loss: 355.3634, Val Loss: 0.7148, Trn Acc: 0.4025,  Val Acc: 0.5099\n",
            "Epoch 4/200, Train Loss: 134.7694, Val Loss: 0.7251, Trn Acc: 0.5743,  Val Acc: 0.4557\n",
            "Epoch 5/200, Train Loss: 52.7015, Val Loss: 0.7185, Trn Acc: 0.4609,  Val Acc: 0.5568\n",
            "Epoch 6/200, Train Loss: 269.0967, Val Loss: 0.7219, Trn Acc: 0.5139,  Val Acc: 0.4641\n",
            "Epoch 7/200, Train Loss: 284.0615, Val Loss: 0.7231, Trn Acc: 0.4470,  Val Acc: 0.4447\n",
            "Epoch 8/200, Train Loss: 564.7821, Val Loss: 0.7190, Trn Acc: 0.4898,  Val Acc: 0.5451\n",
            "Epoch 9/200, Train Loss: 625.6543, Val Loss: 0.7184, Trn Acc: 0.4958,  Val Acc: 0.5868\n",
            "Epoch 10/200, Train Loss: 636.3154, Val Loss: 0.7214, Trn Acc: 0.4908,  Val Acc: 0.4797\n",
            "Epoch 11/200, Train Loss: 102.3999, Val Loss: 0.7228, Trn Acc: 0.5563,  Val Acc: 0.5451\n",
            "Epoch 12/200, Train Loss: 195.5098, Val Loss: 0.7204, Trn Acc: 0.5601,  Val Acc: 0.5110\n",
            "Epoch 13/200, Train Loss: 189.7095, Val Loss: 1.8826, Trn Acc: 0.5293,  Val Acc: 0.5017\n",
            "Epoch 14/200, Train Loss: 446.7108, Val Loss: 0.7254, Trn Acc: 0.5142,  Val Acc: 0.5451\n",
            "Epoch 15/200, Train Loss: 21.9463, Val Loss: 0.7207, Trn Acc: 0.5080,  Val Acc: 0.5400\n",
            "Epoch 16/200, Train Loss: 435.0893, Val Loss: 0.7169, Trn Acc: 0.4384,  Val Acc: 0.4874\n",
            "Epoch 17/200, Train Loss: 229.3199, Val Loss: 1.8808, Trn Acc: 0.4878,  Val Acc: 0.4955\n",
            "Epoch 18/200, Train Loss: 27.8934, Val Loss: 0.7160, Trn Acc: 0.5414,  Val Acc: 0.5505\n",
            "Epoch 19/200, Train Loss: 262.2447, Val Loss: 0.7041, Trn Acc: 0.5929,  Val Acc: 0.5804\n",
            "Epoch 20/200, Train Loss: 426.7296, Val Loss: 0.7181, Trn Acc: 0.5257,  Val Acc: 0.4951\n",
            "Epoch 21/200, Train Loss: 583.8676, Val Loss: 0.7147, Trn Acc: 0.5127,  Val Acc: 0.4980\n",
            "Epoch 22/200, Train Loss: 447.3123, Val Loss: 0.7171, Trn Acc: 0.5615,  Val Acc: 0.5255\n",
            "Epoch 23/200, Train Loss: 390.2263, Val Loss: 0.6937, Trn Acc: 0.4516,  Val Acc: 0.5346\n",
            "Epoch 24/200, Train Loss: 245.6611, Val Loss: 0.6983, Trn Acc: 0.5595,  Val Acc: 0.5349\n",
            "Epoch 25/200, Train Loss: 273.0376, Val Loss: 0.7126, Trn Acc: 0.4962,  Val Acc: 0.5515\n",
            "Epoch 26/200, Train Loss: 760.5768, Val Loss: 0.7090, Trn Acc: 0.5092,  Val Acc: 0.5515\n",
            "Epoch 27/200, Train Loss: 261.5595, Val Loss: 0.7167, Trn Acc: 0.4536,  Val Acc: 0.4261\n",
            "Epoch 28/200, Train Loss: 330.7990, Val Loss: 0.7212, Trn Acc: 0.4152,  Val Acc: 0.4748\n",
            "Epoch 29/200, Train Loss: 178.5775, Val Loss: 0.7145, Trn Acc: 0.5538,  Val Acc: 0.5228\n",
            "Epoch 30/200, Train Loss: 475.3842, Val Loss: 0.7312, Trn Acc: 0.4531,  Val Acc: 0.4346\n",
            "Epoch 31/200, Train Loss: 347.6018, Val Loss: 0.7137, Trn Acc: 0.5176,  Val Acc: 0.5463\n",
            "Epoch 32/200, Train Loss: 84.6889, Val Loss: 0.7242, Trn Acc: 0.5907,  Val Acc: 0.4743\n",
            "Epoch 33/200, Train Loss: 233.8714, Val Loss: 0.7209, Trn Acc: 0.5453,  Val Acc: 0.4693\n",
            "Epoch 34/200, Train Loss: 18.7458, Val Loss: 0.7190, Trn Acc: 0.5482,  Val Acc: 0.5462\n",
            "Epoch 35/200, Train Loss: 622.9828, Val Loss: 0.7077, Trn Acc: 0.5248,  Val Acc: 0.4953\n",
            "Epoch 36/200, Train Loss: 376.0551, Val Loss: 0.7247, Trn Acc: 0.5645,  Val Acc: 0.4745\n",
            "Epoch 37/200, Train Loss: 150.0257, Val Loss: 0.7237, Trn Acc: 0.4806,  Val Acc: 0.4853\n",
            "Epoch 38/200, Train Loss: 288.0752, Val Loss: 0.7112, Trn Acc: 0.6147,  Val Acc: 0.4928\n",
            "Epoch 39/200, Train Loss: 548.9769, Val Loss: 0.7336, Trn Acc: 0.5257,  Val Acc: 0.4391\n",
            "Epoch 40/200, Train Loss: 182.3461, Val Loss: 0.7207, Trn Acc: 0.5270,  Val Acc: 0.5464\n",
            "Epoch 41/200, Train Loss: 171.1433, Val Loss: 0.7235, Trn Acc: 0.4268,  Val Acc: 0.4759\n",
            "Epoch 42/200, Train Loss: 514.0079, Val Loss: 0.7150, Trn Acc: 0.4333,  Val Acc: 0.5384\n",
            "Epoch 43/200, Train Loss: 0.8571, Val Loss: 0.7135, Trn Acc: 0.5335,  Val Acc: 0.5763\n",
            "Epoch 44/200, Train Loss: 357.4744, Val Loss: 0.7221, Trn Acc: 0.5038,  Val Acc: 0.5056\n",
            "Epoch 45/200, Train Loss: 278.6325, Val Loss: 0.7036, Trn Acc: 0.5585,  Val Acc: 0.4756\n",
            "Epoch 46/200, Train Loss: 478.9226, Val Loss: 0.7112, Trn Acc: 0.4658,  Val Acc: 0.5005\n",
            "Epoch 47/200, Train Loss: 1.7963, Val Loss: 0.7175, Trn Acc: 0.5717,  Val Acc: 0.5568\n",
            "Epoch 48/200, Train Loss: 97.5387, Val Loss: 0.7263, Trn Acc: 0.5208,  Val Acc: 0.4691\n",
            "Epoch 49/200, Train Loss: 44.3371, Val Loss: 0.7120, Trn Acc: 0.5198,  Val Acc: 0.5558\n",
            "Epoch 50/200, Train Loss: 229.4313, Val Loss: 0.7118, Trn Acc: 0.4977,  Val Acc: 0.5332\n",
            "Epoch 51/200, Train Loss: 274.5785, Val Loss: 0.7237, Trn Acc: 0.4782,  Val Acc: 0.4468\n",
            "Epoch 52/200, Train Loss: 506.5470, Val Loss: 0.7155, Trn Acc: 0.4595,  Val Acc: 0.4802\n",
            "Epoch 53/200, Train Loss: 420.6940, Val Loss: 0.7115, Trn Acc: 0.4717,  Val Acc: 0.5622\n",
            "Epoch 54/200, Train Loss: 247.6390, Val Loss: 0.7180, Trn Acc: 0.5437,  Val Acc: 0.5109\n",
            "Epoch 55/200, Train Loss: 64.2620, Val Loss: 0.7111, Trn Acc: 0.4475,  Val Acc: 0.5357\n",
            "Epoch 56/200, Train Loss: 123.3131, Val Loss: 0.7241, Trn Acc: 0.5723,  Val Acc: 0.4587\n",
            "Epoch 57/200, Train Loss: 2.1350, Val Loss: 0.7223, Trn Acc: 0.5117,  Val Acc: 0.4745\n",
            "Epoch 58/200, Train Loss: 28.6022, Val Loss: 0.7214, Trn Acc: 0.5553,  Val Acc: 0.5816\n",
            "Epoch 59/200, Train Loss: 569.5200, Val Loss: 0.7196, Trn Acc: 0.4993,  Val Acc: 0.4652\n",
            "Epoch 60/200, Train Loss: 298.5656, Val Loss: 0.7166, Trn Acc: 0.5484,  Val Acc: 0.4797\n",
            "Epoch 61/200, Train Loss: 389.4813, Val Loss: 0.7198, Trn Acc: 0.5069,  Val Acc: 0.4641\n",
            "Epoch 62/200, Train Loss: 22.5602, Val Loss: 0.7132, Trn Acc: 0.5664,  Val Acc: 0.5609\n",
            "Epoch 63/200, Train Loss: 126.0415, Val Loss: 0.7284, Trn Acc: 0.4698,  Val Acc: 0.4639\n",
            "Epoch 64/200, Train Loss: 37.2263, Val Loss: 0.7223, Trn Acc: 0.5370,  Val Acc: 0.5056\n",
            "Epoch 65/200, Train Loss: 62.9483, Val Loss: 0.7139, Trn Acc: 0.4472,  Val Acc: 0.5334\n",
            "Epoch 66/200, Train Loss: 305.9155, Val Loss: 0.7216, Trn Acc: 0.5200,  Val Acc: 0.4652\n",
            "Epoch 67/200, Train Loss: 5.3757, Val Loss: 1.8709, Trn Acc: 0.5391,  Val Acc: 0.5555\n",
            "Epoch 68/200, Train Loss: 96.4236, Val Loss: 0.7318, Trn Acc: 0.5226,  Val Acc: 0.5451\n",
            "Epoch 69/200, Train Loss: 395.9060, Val Loss: 0.7019, Trn Acc: 0.5204,  Val Acc: 0.5817\n",
            "Epoch 70/200, Train Loss: 47.6579, Val Loss: 0.7201, Trn Acc: 0.4839,  Val Acc: 0.4667\n",
            "Epoch 71/200, Train Loss: 16.2662, Val Loss: 0.7126, Trn Acc: 0.4139,  Val Acc: 0.4709\n",
            "Epoch 72/200, Train Loss: 48.1342, Val Loss: 0.7182, Trn Acc: 0.5435,  Val Acc: 0.4747\n",
            "Epoch 73/200, Train Loss: 1.9280, Val Loss: 0.7064, Trn Acc: 0.5672,  Val Acc: 0.5399\n",
            "Epoch 74/200, Train Loss: 293.9313, Val Loss: 0.7231, Trn Acc: 0.4788,  Val Acc: 0.5045\n",
            "Epoch 75/200, Train Loss: 323.1334, Val Loss: 0.7234, Trn Acc: 0.4883,  Val Acc: 0.4797\n",
            "Epoch 76/200, Train Loss: 94.4487, Val Loss: 0.7257, Trn Acc: 0.5357,  Val Acc: 0.4287\n",
            "Epoch 77/200, Train Loss: 251.0800, Val Loss: 0.7223, Trn Acc: 0.5501,  Val Acc: 0.4810\n",
            "Epoch 78/200, Train Loss: 543.6258, Val Loss: 0.7218, Trn Acc: 0.5252,  Val Acc: 0.5032\n",
            "Epoch 79/200, Train Loss: 1.2050, Val Loss: 0.7257, Trn Acc: 0.4954,  Val Acc: 0.5056\n",
            "Epoch 80/200, Train Loss: 479.8558, Val Loss: 0.7202, Trn Acc: 0.5222,  Val Acc: 0.4639\n",
            "Epoch 81/200, Train Loss: 1.2514, Val Loss: 0.7129, Trn Acc: 0.5380,  Val Acc: 0.5280\n",
            "Epoch 82/200, Train Loss: 215.7510, Val Loss: 0.7139, Trn Acc: 0.4649,  Val Acc: 0.5332\n",
            "Epoch 83/200, Train Loss: 201.7231, Val Loss: 0.7091, Trn Acc: 0.5453,  Val Acc: 0.5334\n",
            "Epoch 84/200, Train Loss: 167.2142, Val Loss: 0.7120, Trn Acc: 0.4599,  Val Acc: 0.5211\n",
            "Epoch 85/200, Train Loss: 226.2491, Val Loss: 0.7240, Trn Acc: 0.4268,  Val Acc: 0.4497\n",
            "Epoch 86/200, Train Loss: 258.5198, Val Loss: 0.7325, Trn Acc: 0.4655,  Val Acc: 0.4691\n",
            "Epoch 87/200, Train Loss: 123.7685, Val Loss: 0.7167, Trn Acc: 0.5383,  Val Acc: 0.4693\n",
            "Epoch 88/200, Train Loss: 89.3354, Val Loss: 0.7254, Trn Acc: 0.5154,  Val Acc: 0.4605\n",
            "Epoch 89/200, Train Loss: 63.0348, Val Loss: 0.7229, Trn Acc: 0.4690,  Val Acc: 0.4639\n",
            "Epoch 90/200, Train Loss: 322.4535, Val Loss: 0.7141, Trn Acc: 0.5922,  Val Acc: 0.5097\n",
            "Epoch 91/200, Train Loss: 37.2181, Val Loss: 0.7157, Trn Acc: 0.5318,  Val Acc: 0.5628\n",
            "Epoch 92/200, Train Loss: 127.8460, Val Loss: 0.7149, Trn Acc: 0.4746,  Val Acc: 0.5059\n",
            "Epoch 93/200, Train Loss: 203.4293, Val Loss: 0.7343, Trn Acc: 0.5309,  Val Acc: 0.4391\n",
            "Epoch 94/200, Train Loss: 318.3184, Val Loss: 0.7139, Trn Acc: 0.4662,  Val Acc: 0.5099\n",
            "Epoch 95/200, Train Loss: 57.8019, Val Loss: 0.7099, Trn Acc: 0.5492,  Val Acc: 0.4954\n",
            "Epoch 96/200, Train Loss: 369.8928, Val Loss: 0.7185, Trn Acc: 0.4052,  Val Acc: 0.5609\n",
            "Epoch 97/200, Train Loss: 129.0180, Val Loss: 0.7170, Trn Acc: 0.5243,  Val Acc: 0.5239\n",
            "Epoch 98/200, Train Loss: 51.2879, Val Loss: 0.7200, Trn Acc: 0.3861,  Val Acc: 0.5151\n",
            "Epoch 99/200, Train Loss: 59.4345, Val Loss: 0.7285, Trn Acc: 0.4034,  Val Acc: 0.4756\n",
            "Epoch 100/200, Train Loss: 31.4821, Val Loss: 0.7052, Trn Acc: 0.4615,  Val Acc: 0.5405\n",
            "Epoch 101/200, Train Loss: 473.3705, Val Loss: 0.7263, Trn Acc: 0.5084,  Val Acc: 0.4497\n",
            "Epoch 102/200, Train Loss: 403.5599, Val Loss: 0.7103, Trn Acc: 0.5425,  Val Acc: 0.5975\n",
            "Epoch 103/200, Train Loss: 464.5794, Val Loss: 0.7157, Trn Acc: 0.4856,  Val Acc: 0.4641\n",
            "Epoch 104/200, Train Loss: 555.8308, Val Loss: 0.7126, Trn Acc: 0.4376,  Val Acc: 0.4918\n",
            "Epoch 105/200, Train Loss: 98.5501, Val Loss: 0.7182, Trn Acc: 0.4766,  Val Acc: 0.4759\n",
            "Epoch 106/200, Train Loss: 61.4400, Val Loss: 0.7191, Trn Acc: 0.4270,  Val Acc: 0.4693\n",
            "Epoch 107/200, Train Loss: 127.8173, Val Loss: 0.7242, Trn Acc: 0.4070,  Val Acc: 0.4704\n",
            "Epoch 108/200, Train Loss: 266.8703, Val Loss: 0.7186, Trn Acc: 0.5378,  Val Acc: 0.4951\n",
            "Epoch 109/200, Train Loss: 245.4681, Val Loss: 0.7236, Trn Acc: 0.5201,  Val Acc: 0.4341\n",
            "Epoch 110/200, Train Loss: 135.0198, Val Loss: 0.7258, Trn Acc: 0.5006,  Val Acc: 0.4589\n",
            "Epoch 111/200, Train Loss: 219.4316, Val Loss: 0.7260, Trn Acc: 0.5206,  Val Acc: 0.4294\n",
            "Epoch 112/200, Train Loss: 375.1702, Val Loss: 0.7216, Trn Acc: 0.5591,  Val Acc: 0.4762\n",
            "Epoch 113/200, Train Loss: 234.8876, Val Loss: 0.7253, Trn Acc: 0.4758,  Val Acc: 0.5149\n",
            "Epoch 114/200, Train Loss: 180.3741, Val Loss: 0.7287, Trn Acc: 0.5604,  Val Acc: 0.4639\n",
            "Epoch 115/200, Train Loss: 146.7079, Val Loss: 0.7247, Trn Acc: 0.4566,  Val Acc: 0.5503\n",
            "Epoch 116/200, Train Loss: 165.3077, Val Loss: 0.7182, Trn Acc: 0.5016,  Val Acc: 0.4652\n",
            "Epoch 117/200, Train Loss: 31.8415, Val Loss: 0.7142, Trn Acc: 0.4924,  Val Acc: 0.4993\n",
            "Epoch 118/200, Train Loss: 131.0452, Val Loss: 0.7264, Trn Acc: 0.4585,  Val Acc: 0.4346\n",
            "Epoch 119/200, Train Loss: 106.8922, Val Loss: 0.7310, Trn Acc: 0.5408,  Val Acc: 0.4743\n",
            "Epoch 120/200, Train Loss: 138.1866, Val Loss: 0.7239, Trn Acc: 0.4949,  Val Acc: 0.4639\n",
            "Epoch 121/200, Train Loss: 257.1538, Val Loss: 0.7257, Trn Acc: 0.4799,  Val Acc: 0.5255\n",
            "Epoch 122/200, Train Loss: 148.3539, Val Loss: 0.7245, Trn Acc: 0.4821,  Val Acc: 0.4700\n",
            "Epoch 123/200, Train Loss: 302.5087, Val Loss: 0.7134, Trn Acc: 0.4724,  Val Acc: 0.5763\n",
            "Epoch 124/200, Train Loss: 461.4532, Val Loss: 0.7093, Trn Acc: 0.4221,  Val Acc: 0.5058\n",
            "Epoch 125/200, Train Loss: 66.4819, Val Loss: 0.7158, Trn Acc: 0.3928,  Val Acc: 0.5288\n",
            "Epoch 126/200, Train Loss: 514.1292, Val Loss: 0.7174, Trn Acc: 0.5462,  Val Acc: 0.5868\n",
            "Epoch 127/200, Train Loss: 135.2416, Val Loss: 0.7116, Trn Acc: 0.4866,  Val Acc: 0.5216\n",
            "Epoch 128/200, Train Loss: 114.2868, Val Loss: 0.7169, Trn Acc: 0.5092,  Val Acc: 0.4693\n",
            "Epoch 129/200, Train Loss: 536.9883, Val Loss: 0.7126, Trn Acc: 0.5403,  Val Acc: 0.5453\n",
            "Epoch 130/200, Train Loss: 57.1238, Val Loss: 0.7194, Trn Acc: 0.5494,  Val Acc: 0.5462\n",
            "Epoch 131/200, Train Loss: 44.5794, Val Loss: 0.7244, Trn Acc: 0.5323,  Val Acc: 0.5451\n",
            "Epoch 132/200, Train Loss: 98.9981, Val Loss: 0.7253, Trn Acc: 0.5180,  Val Acc: 0.4745\n",
            "Epoch 133/200, Train Loss: 439.0658, Val Loss: 0.7178, Trn Acc: 0.6282,  Val Acc: 0.5238\n",
            "Epoch 134/200, Train Loss: 324.7487, Val Loss: 0.7183, Trn Acc: 0.6465,  Val Acc: 0.4652\n",
            "Epoch 135/200, Train Loss: 415.2005, Val Loss: 0.7137, Trn Acc: 0.5049,  Val Acc: 0.4728\n",
            "Epoch 136/200, Train Loss: 164.0698, Val Loss: 0.7319, Trn Acc: 0.4790,  Val Acc: 0.4639\n",
            "Epoch 137/200, Train Loss: 120.3799, Val Loss: 0.7283, Trn Acc: 0.5534,  Val Acc: 0.4639\n",
            "Epoch 138/200, Train Loss: 136.2891, Val Loss: 0.7233, Trn Acc: 0.4816,  Val Acc: 0.5106\n",
            "Epoch 139/200, Train Loss: 490.1784, Val Loss: 0.7080, Trn Acc: 0.4808,  Val Acc: 0.5592\n",
            "Epoch 140/200, Train Loss: 37.1057, Val Loss: 0.7089, Trn Acc: 0.5153,  Val Acc: 0.5464\n",
            "Epoch 141/200, Train Loss: 309.8505, Val Loss: 0.7118, Trn Acc: 0.5298,  Val Acc: 0.5084\n",
            "Epoch 142/200, Train Loss: 197.5732, Val Loss: 0.7251, Trn Acc: 0.4940,  Val Acc: 0.5410\n",
            "Epoch 143/200, Train Loss: 141.0329, Val Loss: 0.7262, Trn Acc: 0.6252,  Val Acc: 0.4339\n",
            "Epoch 144/200, Train Loss: 130.7216, Val Loss: 0.7152, Trn Acc: 0.5566,  Val Acc: 0.4705\n",
            "Epoch 145/200, Train Loss: 286.2788, Val Loss: 0.7092, Trn Acc: 0.4727,  Val Acc: 0.5093\n",
            "Epoch 146/200, Train Loss: 228.2080, Val Loss: 0.7125, Trn Acc: 0.5058,  Val Acc: 0.5021\n",
            "Epoch 147/200, Train Loss: 235.6910, Val Loss: 0.7010, Trn Acc: 0.5742,  Val Acc: 0.5750\n",
            "Epoch 148/200, Train Loss: 315.8944, Val Loss: 0.7083, Trn Acc: 0.5803,  Val Acc: 0.5334\n",
            "Epoch 149/200, Train Loss: 328.8551, Val Loss: 0.7085, Trn Acc: 0.5531,  Val Acc: 0.5451\n",
            "Epoch 150/200, Train Loss: 473.5773, Val Loss: 0.7097, Trn Acc: 0.5458,  Val Acc: 0.4982\n",
            "Epoch 151/200, Train Loss: 77.1026, Val Loss: 0.7205, Trn Acc: 0.4392,  Val Acc: 0.4652\n",
            "Epoch 152/200, Train Loss: 1.5863, Val Loss: 0.7070, Trn Acc: 0.4943,  Val Acc: 0.5397\n",
            "Epoch 153/200, Train Loss: 265.1696, Val Loss: 0.7101, Trn Acc: 0.4448,  Val Acc: 0.5032\n",
            "Epoch 154/200, Train Loss: 319.4050, Val Loss: 0.7167, Trn Acc: 0.5398,  Val Acc: 0.4926\n",
            "Epoch 155/200, Train Loss: 14.4356, Val Loss: 0.7053, Trn Acc: 0.4864,  Val Acc: 0.5750\n",
            "Epoch 156/200, Train Loss: 240.7401, Val Loss: 0.7284, Trn Acc: 0.5965,  Val Acc: 0.4797\n",
            "Epoch 157/200, Train Loss: 448.4166, Val Loss: 0.7176, Trn Acc: 0.4978,  Val Acc: 0.5309\n",
            "Epoch 158/200, Train Loss: 130.8239, Val Loss: 0.7162, Trn Acc: 0.5445,  Val Acc: 0.4759\n",
            "Epoch 159/200, Train Loss: 121.5823, Val Loss: 0.7115, Trn Acc: 0.4968,  Val Acc: 0.5397\n",
            "Epoch 160/200, Train Loss: 67.3648, Val Loss: 0.7201, Trn Acc: 0.5045,  Val Acc: 0.4512\n",
            "Epoch 161/200, Train Loss: 1.1477, Val Loss: 0.7113, Trn Acc: 0.5592,  Val Acc: 0.5334\n",
            "Epoch 162/200, Train Loss: 322.1763, Val Loss: 0.7191, Trn Acc: 0.5110,  Val Acc: 0.4941\n",
            "Epoch 163/200, Train Loss: 375.9908, Val Loss: 0.7074, Trn Acc: 0.4162,  Val Acc: 0.5344\n",
            "Epoch 164/200, Train Loss: 243.6147, Val Loss: 0.7284, Trn Acc: 0.4877,  Val Acc: 0.5056\n",
            "Epoch 165/200, Train Loss: 278.3101, Val Loss: 0.7121, Trn Acc: 0.4458,  Val Acc: 0.5470\n",
            "Epoch 166/200, Train Loss: 264.5695, Val Loss: 0.7191, Trn Acc: 0.5190,  Val Acc: 0.4797\n",
            "Epoch 167/200, Train Loss: 298.7102, Val Loss: 0.7262, Trn Acc: 0.4973,  Val Acc: 0.5255\n",
            "Epoch 168/200, Train Loss: 305.4370, Val Loss: 0.7264, Trn Acc: 0.5770,  Val Acc: 0.4587\n",
            "Epoch 169/200, Train Loss: 328.4596, Val Loss: 0.7121, Trn Acc: 0.4691,  Val Acc: 0.5697\n",
            "Epoch 170/200, Train Loss: 254.9190, Val Loss: 0.7162, Trn Acc: 0.5022,  Val Acc: 0.4703\n",
            "Epoch 171/200, Train Loss: 324.3698, Val Loss: 0.7157, Trn Acc: 0.4922,  Val Acc: 0.5262\n",
            "Epoch 172/200, Train Loss: 12.9108, Val Loss: 0.7184, Trn Acc: 0.5223,  Val Acc: 0.5228\n",
            "Epoch 173/200, Train Loss: 179.4456, Val Loss: 0.7015, Trn Acc: 0.5605,  Val Acc: 0.4912\n",
            "Epoch 174/200, Train Loss: 286.3563, Val Loss: 0.7183, Trn Acc: 0.4365,  Val Acc: 0.5162\n",
            "Epoch 175/200, Train Loss: 55.0053, Val Loss: 0.7110, Trn Acc: 0.5281,  Val Acc: 0.5084\n",
            "Epoch 176/200, Train Loss: 159.9304, Val Loss: 0.7118, Trn Acc: 0.5808,  Val Acc: 0.4876\n",
            "Epoch 177/200, Train Loss: 191.8827, Val Loss: 0.7174, Trn Acc: 0.5489,  Val Acc: 0.4639\n",
            "Epoch 178/200, Train Loss: 56.0826, Val Loss: 0.7214, Trn Acc: 0.5382,  Val Acc: 0.4745\n",
            "Epoch 179/200, Train Loss: 1.9727, Val Loss: 0.7212, Trn Acc: 0.5109,  Val Acc: 0.4564\n",
            "Epoch 180/200, Train Loss: 84.9822, Val Loss: 0.7138, Trn Acc: 0.5352,  Val Acc: 0.5005\n",
            "Epoch 181/200, Train Loss: 81.4721, Val Loss: 0.7247, Trn Acc: 0.4685,  Val Acc: 0.4588\n",
            "Epoch 182/200, Train Loss: 529.7165, Val Loss: 0.7052, Trn Acc: 0.4579,  Val Acc: 0.5353\n",
            "Epoch 183/200, Train Loss: 353.3861, Val Loss: 0.7168, Trn Acc: 0.5548,  Val Acc: 0.4497\n",
            "Epoch 184/200, Train Loss: 42.0130, Val Loss: 0.7208, Trn Acc: 0.5784,  Val Acc: 0.4709\n",
            "Epoch 185/200, Train Loss: 202.3683, Val Loss: 0.7298, Trn Acc: 0.4399,  Val Acc: 0.4199\n",
            "Epoch 186/200, Train Loss: 241.2994, Val Loss: 0.7197, Trn Acc: 0.5145,  Val Acc: 0.4951\n",
            "Epoch 187/200, Train Loss: 924.1248, Val Loss: 0.7187, Trn Acc: 0.5680,  Val Acc: 0.4799\n",
            "Epoch 188/200, Train Loss: 81.5097, Val Loss: 0.7208, Trn Acc: 0.4924,  Val Acc: 0.5184\n",
            "Epoch 189/200, Train Loss: 180.2079, Val Loss: 1.2984, Trn Acc: 0.4251,  Val Acc: 0.4398\n"
          ]
        },
        {
          "output_type": "stream",
          "name": "stderr",
          "text": [
            "/usr/local/lib/python3.10/dist-packages/sklearn/metrics/_classification.py:2184: UserWarning: y_pred contains classes not in y_true\n",
            "  warnings.warn(\"y_pred contains classes not in y_true\")\n"
          ]
        },
        {
          "output_type": "stream",
          "name": "stdout",
          "text": [
            "Epoch 190/200, Train Loss: 6.6978, Val Loss: 0.6990, Trn Acc: 0.5273,  Val Acc: 0.5172\n",
            "Epoch 191/200, Train Loss: 43.4730, Val Loss: 1.2940, Trn Acc: 0.5153,  Val Acc: 0.5004\n",
            "Epoch 192/200, Train Loss: 352.0114, Val Loss: 0.7063, Trn Acc: 0.5294,  Val Acc: 0.5484\n",
            "Epoch 193/200, Train Loss: 164.3621, Val Loss: 0.7121, Trn Acc: 0.5651,  Val Acc: 0.5332\n",
            "Epoch 194/200, Train Loss: 87.9161, Val Loss: 0.7012, Trn Acc: 0.5164,  Val Acc: 0.5592\n",
            "Epoch 195/200, Train Loss: 184.0415, Val Loss: 0.7239, Trn Acc: 0.4511,  Val Acc: 0.4641\n",
            "Epoch 196/200, Train Loss: 284.4772, Val Loss: 0.7196, Trn Acc: 0.5291,  Val Acc: 0.4810\n",
            "Epoch 197/200, Train Loss: 486.7726, Val Loss: 0.7211, Trn Acc: 0.4266,  Val Acc: 0.5004\n",
            "Epoch 198/200, Train Loss: 557.7179, Val Loss: 0.7125, Trn Acc: 0.5076,  Val Acc: 0.5126\n",
            "Epoch 199/200, Train Loss: 88.7512, Val Loss: 0.7197, Trn Acc: 0.5144,  Val Acc: 0.4339\n",
            "Epoch 200/200, Train Loss: 321.7206, Val Loss: 0.7211, Trn Acc: 0.5734,  Val Acc: 0.4868\n"
          ]
        }
      ]
    },
    {
      "cell_type": "code",
      "source": [
        "np.max(mean_val_acc)"
      ],
      "metadata": {
        "colab": {
          "base_uri": "https://localhost:8080/"
        },
        "id": "LByHbq2PPs8e",
        "outputId": "b195268c-fa92-4b4e-faec-2aae0891eee6"
      },
      "execution_count": null,
      "outputs": [
        {
          "output_type": "execute_result",
          "data": {
            "text/plain": [
              "0.5975120309797729"
            ]
          },
          "metadata": {},
          "execution_count": 170
        }
      ]
    },
    {
      "cell_type": "code",
      "source": [
        "for epoch in range(num_epochs1):\n",
        "      mmc.train()\n",
        "      per_epoch_trn_loss = []\n",
        "      per_epoch_val_loss = []\n",
        "      per_epoch_trn_acc = []\n",
        "      per_epoch_val_acc = []\n",
        "      for batch_idx, (data, target) in enumerate(trn_dl):\n",
        "          mmc.to(device)\n",
        "          data = data.to(device)\n",
        "          target = target.to(device)\n",
        "          optimizer.zero_grad()\n",
        "          #print(f\"number of positives: {target.sum():.4f}\")\n",
        "\n",
        "          output = mmc(data)\n",
        "          loss = criterion(output, target)\n",
        "          per_epoch_trn_loss.append(loss.item())\n",
        "\n",
        "          loss.backward()\n",
        "\n",
        "          trn_acc = balanced_accuracy_score(target.cpu(), output.argmax(dim=-1).cpu())\n",
        "          #trn_acc = balanced_accuracy_score(target, output>=0)\n",
        "          per_epoch_trn_acc.append(trn_acc.item())\n",
        "\n",
        "          optimizer.step()\n",
        "          scheduler.step()\n",
        "\n",
        "      mmc.eval()\n",
        "      for batch_idx, (data, target) in enumerate(val_dl):\n",
        "          data = data.to(device)\n",
        "          target = target.to(device)\n",
        "          with torch.no_grad():\n",
        "              output = mmc(data)\n",
        "              loss = criterion(output, target)\n",
        "              per_epoch_val_loss.append(loss.item())\n",
        "\n",
        "              #val_acc = custom_balanced_accuracy(output.argmax(dim=-1), target)\n",
        "              val_acc = balanced_accuracy_score(target.cpu(), output.argmax(dim=-1).cpu())\n",
        "              #val_acc = balanced_accuracy_score(target, output>=0)\n",
        "              per_epoch_val_acc.append(val_acc.item())\n",
        "\n",
        "\n",
        "      mean_trn_loss.append(np.mean(per_epoch_trn_loss))\n",
        "      mean_val_loss.append(np.mean(per_epoch_val_loss))\n",
        "      #mean_norm.append(np.mean(per_epoch_norms))\n",
        "\n",
        "      mean_trn_acc.append(np.mean(per_epoch_trn_acc))\n",
        "      mean_val_acc.append(np.mean(per_epoch_val_acc))\n",
        "\n",
        "\n",
        "      print(f'Epoch {epoch+1}/{num_epochs1}, Train Loss: {np.mean(per_epoch_trn_loss):.4f}, Val Loss: {np.mean(per_epoch_val_loss):.4f}, Trn Acc: {np.mean(per_epoch_trn_acc):.4f},  Val Acc: {np.mean(per_epoch_val_acc):.4f}')"
      ],
      "metadata": {
        "colab": {
          "base_uri": "https://localhost:8080/"
        },
        "id": "yTCQA2AB0Gb4",
        "outputId": "4e0598be-7065-4784-ef43-eaa3b5166f2a"
      },
      "execution_count": null,
      "outputs": [
        {
          "output_type": "stream",
          "name": "stdout",
          "text": [
            "Epoch 1/200, Train Loss: 65.7100, Val Loss: 0.7096, Trn Acc: 0.4569,  Val Acc: 0.4684\n",
            "Epoch 2/200, Train Loss: 32.7177, Val Loss: 0.7124, Trn Acc: 0.4197,  Val Acc: 0.5140\n",
            "Epoch 3/200, Train Loss: 53.0185, Val Loss: 0.7077, Trn Acc: 0.4087,  Val Acc: 0.4814\n",
            "Epoch 4/200, Train Loss: 56.9321, Val Loss: 0.7083, Trn Acc: 0.4428,  Val Acc: 0.4545\n",
            "Epoch 5/200, Train Loss: 42.7423, Val Loss: 0.7203, Trn Acc: 0.4650,  Val Acc: 0.4735\n",
            "Epoch 6/200, Train Loss: 51.9378, Val Loss: 0.7181, Trn Acc: 0.4073,  Val Acc: 0.4309\n",
            "Epoch 7/200, Train Loss: 12.3040, Val Loss: 0.7182, Trn Acc: 0.4638,  Val Acc: 0.4333\n",
            "Epoch 8/200, Train Loss: 23.9968, Val Loss: 0.7009, Trn Acc: 0.4876,  Val Acc: 0.5021\n",
            "Epoch 9/200, Train Loss: 101.8664, Val Loss: 0.7029, Trn Acc: 0.4837,  Val Acc: 0.5282\n",
            "Epoch 10/200, Train Loss: 27.5853, Val Loss: 0.7093, Trn Acc: 0.4771,  Val Acc: 0.5173\n",
            "Epoch 11/200, Train Loss: 24.8665, Val Loss: 0.6930, Trn Acc: 0.4664,  Val Acc: 0.5412\n",
            "Epoch 12/200, Train Loss: 41.1130, Val Loss: 0.7093, Trn Acc: 0.5104,  Val Acc: 0.4564\n",
            "Epoch 13/200, Train Loss: 50.9936, Val Loss: 0.7174, Trn Acc: 0.4399,  Val Acc: 0.4785\n",
            "Epoch 14/200, Train Loss: 38.2989, Val Loss: 0.7068, Trn Acc: 0.4129,  Val Acc: 0.5613\n",
            "Epoch 15/200, Train Loss: 28.5821, Val Loss: 0.7095, Trn Acc: 0.4620,  Val Acc: 0.5021\n",
            "Epoch 16/200, Train Loss: 31.4206, Val Loss: 0.7079, Trn Acc: 0.4325,  Val Acc: 0.5471\n",
            "Epoch 17/200, Train Loss: 46.3203, Val Loss: 0.6973, Trn Acc: 0.4123,  Val Acc: 0.5585\n",
            "Epoch 18/200, Train Loss: 51.3571, Val Loss: 0.6928, Trn Acc: 0.3807,  Val Acc: 0.5668\n",
            "Epoch 19/200, Train Loss: 58.8908, Val Loss: 0.7107, Trn Acc: 0.5021,  Val Acc: 0.4743\n",
            "Epoch 20/200, Train Loss: 39.3183, Val Loss: 0.7120, Trn Acc: 0.3998,  Val Acc: 0.4862\n",
            "Epoch 21/200, Train Loss: 32.9448, Val Loss: 0.7187, Trn Acc: 0.4415,  Val Acc: 0.3976\n",
            "Epoch 22/200, Train Loss: 71.7214, Val Loss: 0.7042, Trn Acc: 0.4263,  Val Acc: 0.5785\n",
            "Epoch 23/200, Train Loss: 80.5248, Val Loss: 0.7071, Trn Acc: 0.4410,  Val Acc: 0.4553\n",
            "Epoch 24/200, Train Loss: 6.7518, Val Loss: 0.7024, Trn Acc: 0.4605,  Val Acc: 0.5891\n",
            "Epoch 25/200, Train Loss: 45.9565, Val Loss: 0.7059, Trn Acc: 0.4107,  Val Acc: 0.5264\n",
            "Epoch 26/200, Train Loss: 74.4484, Val Loss: 0.7008, Trn Acc: 0.4279,  Val Acc: 0.5067\n",
            "Epoch 27/200, Train Loss: 21.2879, Val Loss: 0.7049, Trn Acc: 0.4556,  Val Acc: 0.5524\n",
            "Epoch 28/200, Train Loss: 21.7871, Val Loss: 0.7083, Trn Acc: 0.4504,  Val Acc: 0.4602\n",
            "Epoch 29/200, Train Loss: 63.1166, Val Loss: 0.7097, Trn Acc: 0.3659,  Val Acc: 0.4622\n",
            "Epoch 30/200, Train Loss: 32.1670, Val Loss: 0.6954, Trn Acc: 0.4610,  Val Acc: 0.5256\n",
            "Epoch 31/200, Train Loss: 65.8303, Val Loss: 0.7110, Trn Acc: 0.3937,  Val Acc: 0.5169\n",
            "Epoch 32/200, Train Loss: 59.2661, Val Loss: 0.7066, Trn Acc: 0.4436,  Val Acc: 0.4984\n",
            "Epoch 33/200, Train Loss: 30.5394, Val Loss: 0.7060, Trn Acc: 0.4582,  Val Acc: 0.5306\n",
            "Epoch 34/200, Train Loss: 38.3045, Val Loss: 0.7034, Trn Acc: 0.4813,  Val Acc: 0.5336\n",
            "Epoch 35/200, Train Loss: 52.9068, Val Loss: 0.7044, Trn Acc: 0.4673,  Val Acc: 0.5528\n",
            "Epoch 36/200, Train Loss: 10.7753, Val Loss: 0.7099, Trn Acc: 0.4969,  Val Acc: 0.5105\n",
            "Epoch 37/200, Train Loss: 21.9559, Val Loss: 0.7127, Trn Acc: 0.4074,  Val Acc: 0.4541\n",
            "Epoch 38/200, Train Loss: 65.8705, Val Loss: 0.7077, Trn Acc: 0.4076,  Val Acc: 0.5249\n",
            "Epoch 39/200, Train Loss: 33.5329, Val Loss: 0.7053, Trn Acc: 0.4286,  Val Acc: 0.5144\n",
            "Epoch 40/200, Train Loss: 61.8691, Val Loss: 0.7069, Trn Acc: 0.4197,  Val Acc: 0.4704\n",
            "Epoch 41/200, Train Loss: 80.9611, Val Loss: 0.7110, Trn Acc: 0.4374,  Val Acc: 0.5083\n",
            "Epoch 42/200, Train Loss: 51.0560, Val Loss: 0.7070, Trn Acc: 0.3587,  Val Acc: 0.5556\n",
            "Epoch 43/200, Train Loss: 72.3428, Val Loss: 0.7048, Trn Acc: 0.4428,  Val Acc: 0.5670\n",
            "Epoch 44/200, Train Loss: 49.0702, Val Loss: 0.7140, Trn Acc: 0.3744,  Val Acc: 0.5240\n",
            "Epoch 45/200, Train Loss: 57.8660, Val Loss: 0.7020, Trn Acc: 0.4175,  Val Acc: 0.5966\n",
            "Epoch 46/200, Train Loss: 37.3344, Val Loss: 0.7042, Trn Acc: 0.4260,  Val Acc: 0.6157\n",
            "Epoch 47/200, Train Loss: 12.5468, Val Loss: 0.7218, Trn Acc: 0.4891,  Val Acc: 0.5083\n",
            "Epoch 48/200, Train Loss: 37.3214, Val Loss: 0.7079, Trn Acc: 0.4897,  Val Acc: 0.5216\n",
            "Epoch 49/200, Train Loss: 14.0083, Val Loss: 0.7225, Trn Acc: 0.3878,  Val Acc: 0.5059\n",
            "Epoch 50/200, Train Loss: 33.0870, Val Loss: 0.7026, Trn Acc: 0.4462,  Val Acc: 0.5185\n",
            "Epoch 51/200, Train Loss: 46.9438, Val Loss: 0.7222, Trn Acc: 0.5153,  Val Acc: 0.4851\n",
            "Epoch 52/200, Train Loss: 38.7771, Val Loss: 0.7112, Trn Acc: 0.5349,  Val Acc: 0.5279\n",
            "Epoch 53/200, Train Loss: 67.1578, Val Loss: 0.6984, Trn Acc: 0.4194,  Val Acc: 0.5404\n",
            "Epoch 54/200, Train Loss: 33.7209, Val Loss: 0.7066, Trn Acc: 0.4046,  Val Acc: 0.5044\n",
            "Epoch 55/200, Train Loss: 38.7883, Val Loss: 0.7078, Trn Acc: 0.4607,  Val Acc: 0.5657\n",
            "Epoch 56/200, Train Loss: 18.8845, Val Loss: 0.7104, Trn Acc: 0.4852,  Val Acc: 0.4947\n",
            "Epoch 57/200, Train Loss: 33.8041, Val Loss: 0.7176, Trn Acc: 0.4181,  Val Acc: 0.3896\n",
            "Epoch 58/200, Train Loss: 17.0306, Val Loss: 0.7029, Trn Acc: 0.4419,  Val Acc: 0.5828\n",
            "Epoch 59/200, Train Loss: 49.2492, Val Loss: 0.7198, Trn Acc: 0.3218,  Val Acc: 0.3912\n",
            "Epoch 60/200, Train Loss: 29.3363, Val Loss: 0.7067, Trn Acc: 0.4304,  Val Acc: 0.5079\n",
            "Epoch 61/200, Train Loss: 90.6548, Val Loss: 0.7045, Trn Acc: 0.4077,  Val Acc: 0.5130\n",
            "Epoch 62/200, Train Loss: 19.2750, Val Loss: 0.7010, Trn Acc: 0.4362,  Val Acc: 0.5710\n",
            "Epoch 63/200, Train Loss: 56.9299, Val Loss: 0.7177, Trn Acc: 0.4441,  Val Acc: 0.4991\n",
            "Epoch 64/200, Train Loss: 53.9583, Val Loss: 0.7110, Trn Acc: 0.4230,  Val Acc: 0.5253\n",
            "Epoch 65/200, Train Loss: 45.0355, Val Loss: 0.7123, Trn Acc: 0.5148,  Val Acc: 0.5083\n",
            "Epoch 66/200, Train Loss: 39.6280, Val Loss: 0.7039, Trn Acc: 0.4126,  Val Acc: 0.5913\n",
            "Epoch 67/200, Train Loss: 121.5866, Val Loss: 0.7064, Trn Acc: 0.4855,  Val Acc: 0.5763\n",
            "Epoch 68/200, Train Loss: 26.0705, Val Loss: 0.7039, Trn Acc: 0.4023,  Val Acc: 0.5528\n",
            "Epoch 69/200, Train Loss: 45.5825, Val Loss: 0.7126, Trn Acc: 0.4286,  Val Acc: 0.5292\n",
            "Epoch 70/200, Train Loss: 69.7284, Val Loss: 0.7040, Trn Acc: 0.3824,  Val Acc: 0.5657\n",
            "Epoch 71/200, Train Loss: 31.9202, Val Loss: 0.7096, Trn Acc: 0.5029,  Val Acc: 0.4783\n",
            "Epoch 72/200, Train Loss: 41.9857, Val Loss: 0.7222, Trn Acc: 0.4638,  Val Acc: 0.4233\n",
            "Epoch 73/200, Train Loss: 29.5043, Val Loss: 0.7005, Trn Acc: 0.4560,  Val Acc: 0.5308\n",
            "Epoch 74/200, Train Loss: 107.5276, Val Loss: 0.7079, Trn Acc: 0.3651,  Val Acc: 0.5253\n",
            "Epoch 75/200, Train Loss: 29.0745, Val Loss: 0.7108, Trn Acc: 0.4333,  Val Acc: 0.5463\n",
            "Epoch 76/200, Train Loss: 39.3814, Val Loss: 0.7190, Trn Acc: 0.3999,  Val Acc: 0.4984\n",
            "Epoch 77/200, Train Loss: 67.6607, Val Loss: 0.7035, Trn Acc: 0.3838,  Val Acc: 0.4640\n",
            "Epoch 78/200, Train Loss: 85.3810, Val Loss: 0.7111, Trn Acc: 0.4416,  Val Acc: 0.4727\n",
            "Epoch 79/200, Train Loss: 28.6827, Val Loss: 0.7256, Trn Acc: 0.4380,  Val Acc: 0.4056\n",
            "Epoch 80/200, Train Loss: 17.9883, Val Loss: 0.7146, Trn Acc: 0.4872,  Val Acc: 0.4642\n",
            "Epoch 81/200, Train Loss: 44.4985, Val Loss: 0.6952, Trn Acc: 0.4331,  Val Acc: 0.4865\n",
            "Epoch 82/200, Train Loss: 35.2018, Val Loss: 0.7103, Trn Acc: 0.4411,  Val Acc: 0.5016\n",
            "Epoch 83/200, Train Loss: 23.4117, Val Loss: 0.6915, Trn Acc: 0.4187,  Val Acc: 0.5837\n",
            "Epoch 84/200, Train Loss: 53.7910, Val Loss: 0.7202, Trn Acc: 0.4951,  Val Acc: 0.4370\n",
            "Epoch 85/200, Train Loss: 49.1323, Val Loss: 0.7074, Trn Acc: 0.4658,  Val Acc: 0.5011\n",
            "Epoch 86/200, Train Loss: 48.6180, Val Loss: 0.7114, Trn Acc: 0.4915,  Val Acc: 0.4444\n",
            "Epoch 87/200, Train Loss: 38.8051, Val Loss: 0.7040, Trn Acc: 0.4701,  Val Acc: 0.5314\n",
            "Epoch 88/200, Train Loss: 32.1886, Val Loss: 0.7036, Trn Acc: 0.4682,  Val Acc: 0.5449\n",
            "Epoch 89/200, Train Loss: 87.0001, Val Loss: 0.7105, Trn Acc: 0.4050,  Val Acc: 0.4612\n",
            "Epoch 90/200, Train Loss: 55.6037, Val Loss: 0.7124, Trn Acc: 0.4504,  Val Acc: 0.4222\n",
            "Epoch 91/200, Train Loss: 92.8979, Val Loss: 0.7154, Trn Acc: 0.4140,  Val Acc: 0.4776\n",
            "Epoch 92/200, Train Loss: 73.9014, Val Loss: 0.7151, Trn Acc: 0.4211,  Val Acc: 0.4736\n",
            "Epoch 93/200, Train Loss: 43.4406, Val Loss: 0.7234, Trn Acc: 0.4016,  Val Acc: 0.4089\n",
            "Epoch 94/200, Train Loss: 50.7666, Val Loss: 0.7021, Trn Acc: 0.4037,  Val Acc: 0.5261\n",
            "Epoch 95/200, Train Loss: 45.2602, Val Loss: 0.7134, Trn Acc: 0.4070,  Val Acc: 0.4929\n",
            "Epoch 96/200, Train Loss: 40.0218, Val Loss: 0.7055, Trn Acc: 0.3958,  Val Acc: 0.4901\n",
            "Epoch 97/200, Train Loss: 31.3059, Val Loss: 0.7116, Trn Acc: 0.4546,  Val Acc: 0.5241\n",
            "Epoch 98/200, Train Loss: 146.0784, Val Loss: 0.7030, Trn Acc: 0.3779,  Val Acc: 0.5207\n",
            "Epoch 99/200, Train Loss: 85.1403, Val Loss: 0.7053, Trn Acc: 0.4346,  Val Acc: 0.4986\n",
            "Epoch 100/200, Train Loss: 101.7501, Val Loss: 0.6990, Trn Acc: 0.4229,  Val Acc: 0.5452\n",
            "Epoch 101/200, Train Loss: 72.1338, Val Loss: 0.7020, Trn Acc: 0.5168,  Val Acc: 0.5070\n",
            "Epoch 102/200, Train Loss: 88.5187, Val Loss: 0.7138, Trn Acc: 0.4387,  Val Acc: 0.4557\n",
            "Epoch 103/200, Train Loss: 53.9577, Val Loss: 0.7056, Trn Acc: 0.4676,  Val Acc: 0.6018\n",
            "Epoch 104/200, Train Loss: 60.4217, Val Loss: 0.7057, Trn Acc: 0.4329,  Val Acc: 0.6121\n",
            "Epoch 105/200, Train Loss: 115.2520, Val Loss: 0.7040, Trn Acc: 0.4106,  Val Acc: 0.5254\n",
            "Epoch 106/200, Train Loss: 41.6285, Val Loss: 0.7115, Trn Acc: 0.5018,  Val Acc: 0.4663\n",
            "Epoch 107/200, Train Loss: 7.0236, Val Loss: 0.7126, Trn Acc: 0.4618,  Val Acc: 0.4703\n",
            "Epoch 108/200, Train Loss: 16.9257, Val Loss: 0.7062, Trn Acc: 0.4991,  Val Acc: 0.5379\n",
            "Epoch 109/200, Train Loss: 37.8313, Val Loss: 0.6928, Trn Acc: 0.4413,  Val Acc: 0.5648\n",
            "Epoch 110/200, Train Loss: 48.1686, Val Loss: 0.7184, Trn Acc: 0.4724,  Val Acc: 0.4877\n",
            "Epoch 111/200, Train Loss: 40.0459, Val Loss: 0.7169, Trn Acc: 0.4413,  Val Acc: 0.5489\n",
            "Epoch 112/200, Train Loss: 93.9085, Val Loss: 0.7128, Trn Acc: 0.3796,  Val Acc: 0.4771\n",
            "Epoch 113/200, Train Loss: 60.6598, Val Loss: 0.7130, Trn Acc: 0.5128,  Val Acc: 0.5345\n",
            "Epoch 114/200, Train Loss: 14.6971, Val Loss: 0.7108, Trn Acc: 0.5265,  Val Acc: 0.4602\n",
            "Epoch 115/200, Train Loss: 44.7965, Val Loss: 0.7198, Trn Acc: 0.4042,  Val Acc: 0.4132\n",
            "Epoch 116/200, Train Loss: 39.1784, Val Loss: 0.7240, Trn Acc: 0.4071,  Val Acc: 0.4929\n",
            "Epoch 117/200, Train Loss: 56.2832, Val Loss: 0.7233, Trn Acc: 0.4893,  Val Acc: 0.4106\n",
            "Epoch 118/200, Train Loss: 10.0889, Val Loss: 0.7089, Trn Acc: 0.4710,  Val Acc: 0.4958\n",
            "Epoch 119/200, Train Loss: 90.5058, Val Loss: 0.7217, Trn Acc: 0.4029,  Val Acc: 0.4182\n",
            "Epoch 120/200, Train Loss: 18.1246, Val Loss: 0.6981, Trn Acc: 0.4121,  Val Acc: 0.5733\n",
            "Epoch 121/200, Train Loss: 50.8692, Val Loss: 0.7093, Trn Acc: 0.4258,  Val Acc: 0.5222\n",
            "Epoch 122/200, Train Loss: 23.1114, Val Loss: 0.7197, Trn Acc: 0.4650,  Val Acc: 0.3965\n",
            "Epoch 123/200, Train Loss: 110.4713, Val Loss: 0.7027, Trn Acc: 0.3913,  Val Acc: 0.6033\n",
            "Epoch 124/200, Train Loss: 33.4757, Val Loss: 0.6998, Trn Acc: 0.4471,  Val Acc: 0.5268\n",
            "Epoch 125/200, Train Loss: 87.7123, Val Loss: 0.7087, Trn Acc: 0.4582,  Val Acc: 0.4864\n",
            "Epoch 126/200, Train Loss: 29.8435, Val Loss: 0.7250, Trn Acc: 0.4213,  Val Acc: 0.4373\n",
            "Epoch 127/200, Train Loss: 32.0727, Val Loss: 0.7134, Trn Acc: 0.4493,  Val Acc: 0.4019\n",
            "Epoch 128/200, Train Loss: 50.2956, Val Loss: 0.7000, Trn Acc: 0.4255,  Val Acc: 0.5631\n",
            "Epoch 129/200, Train Loss: 26.8750, Val Loss: 0.7164, Trn Acc: 0.5513,  Val Acc: 0.4269\n",
            "Epoch 130/200, Train Loss: 26.6633, Val Loss: 0.7157, Trn Acc: 0.4820,  Val Acc: 0.4316\n",
            "Epoch 131/200, Train Loss: 41.7132, Val Loss: 0.7097, Trn Acc: 0.4705,  Val Acc: 0.4791\n",
            "Epoch 132/200, Train Loss: 6.5218, Val Loss: 0.7075, Trn Acc: 0.5051,  Val Acc: 0.5246\n",
            "Epoch 133/200, Train Loss: 67.7971, Val Loss: 0.7106, Trn Acc: 0.4117,  Val Acc: 0.5102\n",
            "Epoch 134/200, Train Loss: 16.9104, Val Loss: 0.6971, Trn Acc: 0.4206,  Val Acc: 0.5794\n",
            "Epoch 135/200, Train Loss: 138.1061, Val Loss: 0.7018, Trn Acc: 0.4404,  Val Acc: 0.6077\n",
            "Epoch 136/200, Train Loss: 62.7190, Val Loss: 0.7214, Trn Acc: 0.4335,  Val Acc: 0.4132\n",
            "Epoch 137/200, Train Loss: 14.7341, Val Loss: 0.7065, Trn Acc: 0.4540,  Val Acc: 0.5121\n",
            "Epoch 138/200, Train Loss: 34.4894, Val Loss: 0.7218, Trn Acc: 0.4623,  Val Acc: 0.4054\n",
            "Epoch 139/200, Train Loss: 11.0847, Val Loss: 0.7161, Trn Acc: 0.4287,  Val Acc: 0.5137\n",
            "Epoch 140/200, Train Loss: 9.6354, Val Loss: 0.7185, Trn Acc: 0.4400,  Val Acc: 0.5390\n",
            "Epoch 141/200, Train Loss: 105.8592, Val Loss: 0.7229, Trn Acc: 0.4120,  Val Acc: 0.4324\n",
            "Epoch 142/200, Train Loss: 65.2653, Val Loss: 0.7144, Trn Acc: 0.4079,  Val Acc: 0.4212\n",
            "Epoch 143/200, Train Loss: 67.4583, Val Loss: 0.7069, Trn Acc: 0.4666,  Val Acc: 0.4760\n",
            "Epoch 144/200, Train Loss: 21.7307, Val Loss: 0.7173, Trn Acc: 0.4916,  Val Acc: 0.4904\n",
            "Epoch 145/200, Train Loss: 45.3508, Val Loss: 0.7086, Trn Acc: 0.3838,  Val Acc: 0.5761\n",
            "Epoch 146/200, Train Loss: 12.2548, Val Loss: 0.7156, Trn Acc: 0.4532,  Val Acc: 0.4547\n",
            "Epoch 147/200, Train Loss: 72.0851, Val Loss: 0.7040, Trn Acc: 0.4878,  Val Acc: 0.6176\n",
            "Epoch 148/200, Train Loss: 7.4632, Val Loss: 0.7150, Trn Acc: 0.4405,  Val Acc: 0.4739\n",
            "Epoch 149/200, Train Loss: 21.0764, Val Loss: 0.7037, Trn Acc: 0.4901,  Val Acc: 0.5347\n",
            "Epoch 150/200, Train Loss: 24.1474, Val Loss: 0.7149, Trn Acc: 0.4256,  Val Acc: 0.5085\n",
            "Epoch 151/200, Train Loss: 19.0460, Val Loss: 0.7042, Trn Acc: 0.3977,  Val Acc: 0.5122\n",
            "Epoch 152/200, Train Loss: 23.1190, Val Loss: 0.7191, Trn Acc: 0.4607,  Val Acc: 0.4206\n",
            "Epoch 153/200, Train Loss: 53.5847, Val Loss: 0.7167, Trn Acc: 0.4082,  Val Acc: 0.4208\n",
            "Epoch 154/200, Train Loss: 100.1069, Val Loss: 0.7149, Trn Acc: 0.3591,  Val Acc: 0.5120\n",
            "Epoch 155/200, Train Loss: 35.3269, Val Loss: 0.7096, Trn Acc: 0.4644,  Val Acc: 0.4642\n",
            "Epoch 156/200, Train Loss: 6.1698, Val Loss: 0.7103, Trn Acc: 0.4844,  Val Acc: 0.5921\n",
            "Epoch 157/200, Train Loss: 21.4899, Val Loss: 0.7134, Trn Acc: 0.4279,  Val Acc: 0.4629\n",
            "Epoch 158/200, Train Loss: 56.1579, Val Loss: 0.7157, Trn Acc: 0.4289,  Val Acc: 0.4160\n",
            "Epoch 159/200, Train Loss: 36.4061, Val Loss: 0.7177, Trn Acc: 0.4346,  Val Acc: 0.4773\n",
            "Epoch 160/200, Train Loss: 51.9301, Val Loss: 0.7144, Trn Acc: 0.4197,  Val Acc: 0.4575\n",
            "Epoch 161/200, Train Loss: 97.4535, Val Loss: 0.7102, Trn Acc: 0.4204,  Val Acc: 0.4885\n",
            "Epoch 162/200, Train Loss: 31.2607, Val Loss: 0.7129, Trn Acc: 0.4622,  Val Acc: 0.4707\n",
            "Epoch 163/200, Train Loss: 32.6515, Val Loss: 0.7153, Trn Acc: 0.4141,  Val Acc: 0.5241\n",
            "Epoch 164/200, Train Loss: 67.6431, Val Loss: 0.7220, Trn Acc: 0.4542,  Val Acc: 0.4054\n",
            "Epoch 165/200, Train Loss: 18.3373, Val Loss: 0.7194, Trn Acc: 0.4776,  Val Acc: 0.4078\n",
            "Epoch 166/200, Train Loss: 22.7899, Val Loss: 0.7141, Trn Acc: 0.4173,  Val Acc: 0.5243\n",
            "Epoch 167/200, Train Loss: 39.1491, Val Loss: 0.7165, Trn Acc: 0.4344,  Val Acc: 0.4441\n",
            "Epoch 168/200, Train Loss: 18.5269, Val Loss: 0.7239, Trn Acc: 0.4139,  Val Acc: 0.3866\n",
            "Epoch 169/200, Train Loss: 81.4980, Val Loss: 0.7147, Trn Acc: 0.4370,  Val Acc: 0.4724\n",
            "Epoch 170/200, Train Loss: 88.8367, Val Loss: 0.7130, Trn Acc: 0.4481,  Val Acc: 0.4980\n",
            "Epoch 171/200, Train Loss: 39.5573, Val Loss: 0.7230, Trn Acc: 0.4366,  Val Acc: 0.3950\n",
            "Epoch 172/200, Train Loss: 34.8202, Val Loss: 0.7220, Trn Acc: 0.4548,  Val Acc: 0.4143\n",
            "Epoch 173/200, Train Loss: 85.2051, Val Loss: 0.7096, Trn Acc: 0.3584,  Val Acc: 0.5102\n",
            "Epoch 174/200, Train Loss: 22.5415, Val Loss: 0.7105, Trn Acc: 0.4621,  Val Acc: 0.5243\n",
            "Epoch 175/200, Train Loss: 91.7874, Val Loss: 0.7061, Trn Acc: 0.4519,  Val Acc: 0.4848\n",
            "Epoch 176/200, Train Loss: 31.1251, Val Loss: 0.7233, Trn Acc: 0.4737,  Val Acc: 0.5087\n",
            "Epoch 177/200, Train Loss: 33.7905, Val Loss: 0.7053, Trn Acc: 0.4128,  Val Acc: 0.5020\n",
            "Epoch 178/200, Train Loss: 27.1574, Val Loss: 0.7058, Trn Acc: 0.4149,  Val Acc: 0.5859\n",
            "Epoch 179/200, Train Loss: 38.9846, Val Loss: 0.7178, Trn Acc: 0.4272,  Val Acc: 0.4004\n",
            "Epoch 180/200, Train Loss: 93.0903, Val Loss: 0.7126, Trn Acc: 0.4503,  Val Acc: 0.4925\n",
            "Epoch 181/200, Train Loss: 12.1587, Val Loss: 0.6998, Trn Acc: 0.4107,  Val Acc: 0.5400\n",
            "Epoch 182/200, Train Loss: 21.9387, Val Loss: 0.7023, Trn Acc: 0.4306,  Val Acc: 0.4721\n",
            "Epoch 183/200, Train Loss: 131.5700, Val Loss: 0.7191, Trn Acc: 0.3808,  Val Acc: 0.4517\n",
            "Epoch 184/200, Train Loss: 55.3576, Val Loss: 0.7040, Trn Acc: 0.4333,  Val Acc: 0.6017\n",
            "Epoch 185/200, Train Loss: 135.7112, Val Loss: 0.7124, Trn Acc: 0.3901,  Val Acc: 0.4930\n",
            "Epoch 186/200, Train Loss: 23.5701, Val Loss: 0.6945, Trn Acc: 0.3891,  Val Acc: 0.4964\n",
            "Epoch 187/200, Train Loss: 80.3872, Val Loss: 0.7202, Trn Acc: 0.4252,  Val Acc: 0.4482\n",
            "Epoch 188/200, Train Loss: 11.4931, Val Loss: 0.7225, Trn Acc: 0.4742,  Val Acc: 0.5437\n",
            "Epoch 189/200, Train Loss: 143.8817, Val Loss: 0.7030, Trn Acc: 0.3591,  Val Acc: 0.5146\n",
            "Epoch 190/200, Train Loss: 20.7630, Val Loss: 0.7224, Trn Acc: 0.5581,  Val Acc: 0.3950\n",
            "Epoch 191/200, Train Loss: 38.9316, Val Loss: 0.7141, Trn Acc: 0.3896,  Val Acc: 0.4831\n",
            "Epoch 192/200, Train Loss: 64.3687, Val Loss: 0.6938, Trn Acc: 0.4655,  Val Acc: 0.5448\n",
            "Epoch 193/200, Train Loss: 35.7316, Val Loss: 0.7111, Trn Acc: 0.4359,  Val Acc: 0.4588\n",
            "Epoch 194/200, Train Loss: 64.4230, Val Loss: 0.7190, Trn Acc: 0.4858,  Val Acc: 0.4776\n",
            "Epoch 195/200, Train Loss: 45.9624, Val Loss: 0.7006, Trn Acc: 0.4077,  Val Acc: 0.6287\n",
            "Epoch 196/200, Train Loss: 50.6310, Val Loss: 0.7115, Trn Acc: 0.3712,  Val Acc: 0.4512\n",
            "Epoch 197/200, Train Loss: 37.6689, Val Loss: 0.6976, Trn Acc: 0.4089,  Val Acc: 0.5384\n",
            "Epoch 198/200, Train Loss: 40.5722, Val Loss: 0.7151, Trn Acc: 0.4169,  Val Acc: 0.4795\n",
            "Epoch 199/200, Train Loss: 39.9455, Val Loss: 0.7181, Trn Acc: 0.4534,  Val Acc: 0.4451\n",
            "Epoch 200/200, Train Loss: 67.9738, Val Loss: 0.7134, Trn Acc: 0.4229,  Val Acc: 0.4623\n"
          ]
        }
      ]
    },
    {
      "cell_type": "code",
      "source": [
        "np.max(mean_val_acc)"
      ],
      "metadata": {
        "colab": {
          "base_uri": "https://localhost:8080/"
        },
        "id": "DiUMYzVB4nNx",
        "outputId": "c33c7377-441c-464d-9776-bc5b6502eadf"
      },
      "execution_count": null,
      "outputs": [
        {
          "output_type": "execute_result",
          "data": {
            "text/plain": [
              "0.6287103353635611"
            ]
          },
          "metadata": {},
          "execution_count": 208
        }
      ]
    },
    {
      "cell_type": "code",
      "source": [
        "for epoch in range(num_epochs):\n",
        "      mmc.train()\n",
        "      per_epoch_trn_loss = []\n",
        "      per_epoch_val_loss = []\n",
        "      per_epoch_trn_acc = []\n",
        "      per_epoch_val_acc = []\n",
        "      for batch_idx, (data, target) in enumerate(trn_dl):\n",
        "          mmc.to(device)\n",
        "          data = data.to(device)\n",
        "          target = target.to(device)\n",
        "          optimizer.zero_grad()\n",
        "          #print(f\"number of positives: {target.sum():.4f}\")\n",
        "\n",
        "          output = mmc(data)\n",
        "          loss = criterion(output, target)\n",
        "          per_epoch_trn_loss.append(loss.item())\n",
        "\n",
        "          loss.backward()\n",
        "\n",
        "          trn_acc = balanced_accuracy_score(target.cpu(), output.argmax(dim=-1).cpu())\n",
        "          #trn_acc = balanced_accuracy_score(target, output>=0)\n",
        "          per_epoch_trn_acc.append(trn_acc.item())\n",
        "\n",
        "          optimizer.step()\n",
        "          scheduler.step()\n",
        "\n",
        "      mmc.eval()\n",
        "      for batch_idx, (data, target) in enumerate(val_dl):\n",
        "          data = data.to(device)\n",
        "          target = target.to(device)\n",
        "          with torch.no_grad():\n",
        "              output = mmc(data)\n",
        "              loss = criterion(output, target)\n",
        "              per_epoch_val_loss.append(loss.item())\n",
        "\n",
        "              #val_acc = custom_balanced_accuracy(output.argmax(dim=-1), target)\n",
        "              val_acc = balanced_accuracy_score(target.cpu(), output.argmax(dim=-1).cpu())\n",
        "              #val_acc = balanced_accuracy_score(target, output>=0)\n",
        "              per_epoch_val_acc.append(val_acc.item())\n",
        "\n",
        "\n",
        "      mean_trn_loss.append(np.mean(per_epoch_trn_loss))\n",
        "      mean_val_loss.append(np.mean(per_epoch_val_loss))\n",
        "      #mean_norm.append(np.mean(per_epoch_norms))\n",
        "\n",
        "      mean_trn_acc.append(np.mean(per_epoch_trn_acc))\n",
        "      mean_val_acc.append(np.mean(per_epoch_val_acc))\n",
        "\n",
        "\n",
        "      print(f'Epoch {epoch+1}/{num_epochs}, Train Loss: {np.mean(per_epoch_trn_loss):.4f}, Val Loss: {np.mean(per_epoch_val_loss):.4f}, Trn Acc: {np.mean(per_epoch_trn_acc):.4f},  Val Acc: {np.mean(per_epoch_val_acc):.4f}')"
      ],
      "metadata": {
        "colab": {
          "base_uri": "https://localhost:8080/"
        },
        "id": "zPGEoRxgzTiO",
        "outputId": "a8846ee7-182f-431c-a370-91ebfc5d4d5f"
      },
      "execution_count": null,
      "outputs": [
        {
          "output_type": "stream",
          "name": "stdout",
          "text": [
            "Epoch 1/20, Train Loss: 0.7067, Val Loss: 0.7250, Trn Acc: 0.4513,  Val Acc: 0.4286\n",
            "Epoch 2/20, Train Loss: 0.7008, Val Loss: 0.7060, Trn Acc: 0.4473,  Val Acc: 0.5300\n",
            "Epoch 3/20, Train Loss: 0.6791, Val Loss: 0.7138, Trn Acc: 0.5991,  Val Acc: 0.4967\n",
            "Epoch 4/20, Train Loss: 0.6930, Val Loss: 0.7096, Trn Acc: 0.4614,  Val Acc: 0.5335\n",
            "Epoch 5/20, Train Loss: 0.7069, Val Loss: 0.7161, Trn Acc: 0.4660,  Val Acc: 0.4868\n",
            "Epoch 6/20, Train Loss: 0.7010, Val Loss: 0.7124, Trn Acc: 0.4543,  Val Acc: 0.5135\n",
            "Epoch 7/20, Train Loss: 0.6917, Val Loss: 0.7173, Trn Acc: 0.4615,  Val Acc: 0.4994\n",
            "Epoch 8/20, Train Loss: 0.6994, Val Loss: 0.7061, Trn Acc: 0.4307,  Val Acc: 0.5364\n",
            "Epoch 9/20, Train Loss: 0.6975, Val Loss: 6.7671, Trn Acc: 0.4528,  Val Acc: 0.4498\n",
            "Epoch 10/20, Train Loss: 0.6991, Val Loss: 0.7086, Trn Acc: 0.4943,  Val Acc: 0.5306\n",
            "Epoch 11/20, Train Loss: 0.7059, Val Loss: 0.7054, Trn Acc: 0.4469,  Val Acc: 0.5847\n",
            "Epoch 12/20, Train Loss: 0.7027, Val Loss: 0.7143, Trn Acc: 0.4762,  Val Acc: 0.5205\n",
            "Epoch 13/20, Train Loss: 0.6935, Val Loss: 0.7125, Trn Acc: 0.5199,  Val Acc: 0.4871\n",
            "Epoch 14/20, Train Loss: 0.6905, Val Loss: 6.7615, Trn Acc: 0.5649,  Val Acc: 0.5141\n",
            "Epoch 15/20, Train Loss: 0.6936, Val Loss: 0.7218, Trn Acc: 0.5201,  Val Acc: 0.4231\n",
            "Epoch 16/20, Train Loss: 0.6971, Val Loss: 0.7176, Trn Acc: 0.4589,  Val Acc: 0.5209\n",
            "Epoch 17/20, Train Loss: 0.7006, Val Loss: 0.7170, Trn Acc: 0.4315,  Val Acc: 0.5417\n",
            "Epoch 18/20, Train Loss: 0.6909, Val Loss: 0.7048, Trn Acc: 0.4743,  Val Acc: 0.4941\n",
            "Epoch 19/20, Train Loss: 0.7002, Val Loss: 0.7122, Trn Acc: 0.5076,  Val Acc: 0.5449\n",
            "Epoch 20/20, Train Loss: 0.6834, Val Loss: 0.7034, Trn Acc: 0.5268,  Val Acc: 0.5396\n"
          ]
        }
      ]
    },
    {
      "cell_type": "code",
      "source": [
        "for epoch in range(num_epochs):\n",
        "      mmc.train()\n",
        "      per_epoch_trn_loss = []\n",
        "      per_epoch_val_loss = []\n",
        "      per_epoch_trn_acc = []\n",
        "      per_epoch_val_acc = []\n",
        "      for batch_idx, (data, target) in enumerate(trn_dl):\n",
        "          mmc.to(device)\n",
        "          data = data.to(device)\n",
        "          target = target.to(device)\n",
        "          optimizer.zero_grad()\n",
        "          #print(f\"number of positives: {target.sum():.4f}\")\n",
        "\n",
        "          output = mmc(data)\n",
        "          loss = criterion(output, target)\n",
        "          per_epoch_trn_loss.append(loss.item())\n",
        "\n",
        "          loss.backward()\n",
        "\n",
        "          trn_acc = balanced_accuracy_score(target.cpu(), output.argmax(dim=-1).cpu())\n",
        "          #trn_acc = balanced_accuracy_score(target, output>=0)\n",
        "          per_epoch_trn_acc.append(trn_acc.item())\n",
        "\n",
        "          optimizer.step()\n",
        "          scheduler.step()\n",
        "\n",
        "      mmc.eval()\n",
        "      for batch_idx, (data, target) in enumerate(val_dl):\n",
        "          data = data.to(device)\n",
        "          target = target.to(device)\n",
        "          with torch.no_grad():\n",
        "              output = mmc(data)\n",
        "              loss = criterion(output, target)\n",
        "              per_epoch_val_loss.append(loss.item())\n",
        "\n",
        "              #val_acc = custom_balanced_accuracy(output.argmax(dim=-1), target)\n",
        "              val_acc = balanced_accuracy_score(target.cpu(), output.argmax(dim=-1).cpu())\n",
        "              #val_acc = balanced_accuracy_score(target, output>=0)\n",
        "              per_epoch_val_acc.append(val_acc.item())\n",
        "\n",
        "\n",
        "      mean_trn_loss.append(np.mean(per_epoch_trn_loss))\n",
        "      mean_val_loss.append(np.mean(per_epoch_val_loss))\n",
        "      #mean_norm.append(np.mean(per_epoch_norms))\n",
        "\n",
        "      mean_trn_acc.append(np.mean(per_epoch_trn_acc))\n",
        "      mean_val_acc.append(np.mean(per_epoch_val_acc))\n",
        "\n",
        "\n",
        "      print(f'Epoch {epoch+1}/{num_epochs}, Train Loss: {np.mean(per_epoch_trn_loss):.4f}, Val Loss: {np.mean(per_epoch_val_loss):.4f}, Trn Acc: {np.mean(per_epoch_trn_acc):.4f},  Val Acc: {np.mean(per_epoch_val_acc):.4f}')"
      ],
      "metadata": {
        "colab": {
          "base_uri": "https://localhost:8080/"
        },
        "id": "wIVttIBfyZCT",
        "outputId": "4b47cb48-207a-4bd8-ec9e-b4db97137419"
      },
      "execution_count": null,
      "outputs": [
        {
          "output_type": "stream",
          "name": "stdout",
          "text": [
            "Epoch 1/20, Train Loss: 0.6891, Val Loss: 0.6901, Trn Acc: 0.5490,  Val Acc: 0.4912\n",
            "Epoch 2/20, Train Loss: 0.6938, Val Loss: 0.6912, Trn Acc: 0.5761,  Val Acc: 0.5039\n",
            "Epoch 3/20, Train Loss: 0.6888, Val Loss: 0.6953, Trn Acc: 0.6025,  Val Acc: 0.4509\n",
            "Epoch 4/20, Train Loss: 0.6895, Val Loss: 0.6919, Trn Acc: 0.5341,  Val Acc: 0.5066\n",
            "Epoch 5/20, Train Loss: 0.6927, Val Loss: 0.6907, Trn Acc: 0.5093,  Val Acc: 0.5208\n",
            "Epoch 6/20, Train Loss: 0.6910, Val Loss: 0.6933, Trn Acc: 0.5292,  Val Acc: 0.5287\n",
            "Epoch 7/20, Train Loss: 0.6932, Val Loss: 0.6911, Trn Acc: 0.5121,  Val Acc: 0.4848\n",
            "Epoch 8/20, Train Loss: 0.6880, Val Loss: 0.6929, Trn Acc: 0.5731,  Val Acc: 0.4741\n",
            "Epoch 9/20, Train Loss: 0.6863, Val Loss: 0.6854, Trn Acc: 0.5377,  Val Acc: 0.4370\n",
            "Epoch 10/20, Train Loss: 0.6874, Val Loss: 0.6946, Trn Acc: 0.5273,  Val Acc: 0.5416\n",
            "Epoch 11/20, Train Loss: 0.6881, Val Loss: 0.6871, Trn Acc: 0.5381,  Val Acc: 0.4459\n",
            "Epoch 12/20, Train Loss: 0.6931, Val Loss: 0.6924, Trn Acc: 0.5285,  Val Acc: 0.5216\n",
            "Epoch 13/20, Train Loss: 0.6926, Val Loss: 0.6942, Trn Acc: 0.4122,  Val Acc: 0.4924\n",
            "Epoch 14/20, Train Loss: 0.6910, Val Loss: 0.6946, Trn Acc: 0.5187,  Val Acc: 0.5151\n",
            "Epoch 15/20, Train Loss: 0.6886, Val Loss: 0.6946, Trn Acc: 0.5563,  Val Acc: 0.5016\n",
            "Epoch 16/20, Train Loss: 0.6921, Val Loss: 0.6892, Trn Acc: 0.5431,  Val Acc: 0.5407\n",
            "Epoch 17/20, Train Loss: 0.6910, Val Loss: 0.6914, Trn Acc: 0.5082,  Val Acc: 0.5296\n",
            "Epoch 18/20, Train Loss: 0.6908, Val Loss: 0.6897, Trn Acc: 0.5984,  Val Acc: 0.5366\n",
            "Epoch 19/20, Train Loss: 0.6824, Val Loss: 0.6898, Trn Acc: 0.6091,  Val Acc: 0.4907\n",
            "Epoch 20/20, Train Loss: 0.6851, Val Loss: 0.6940, Trn Acc: 0.5547,  Val Acc: 0.5272\n"
          ]
        }
      ]
    },
    {
      "cell_type": "code",
      "source": [
        "for epoch in range(num_epochs):\n",
        "      mmc.train()\n",
        "      per_epoch_trn_loss = []\n",
        "      per_epoch_val_loss = []\n",
        "      per_epoch_trn_acc = []\n",
        "      per_epoch_val_acc = []\n",
        "      for batch_idx, (data, target) in enumerate(trn_dl):\n",
        "          mmc.to(device)\n",
        "          data = data.to(device)\n",
        "          target = target.to(device)\n",
        "          optimizer.zero_grad()\n",
        "          #print(f\"number of positives: {target.sum():.4f}\")\n",
        "\n",
        "          output = mmc(data)\n",
        "          loss = criterion(output, target)\n",
        "          per_epoch_trn_loss.append(loss.item())\n",
        "\n",
        "          loss.backward()\n",
        "\n",
        "          trn_acc = balanced_accuracy_score(target.cpu(), output.argmax(dim=-1).cpu())\n",
        "          #trn_acc = balanced_accuracy_score(target, output>=0)\n",
        "          per_epoch_trn_acc.append(trn_acc.item())\n",
        "\n",
        "          optimizer.step()\n",
        "          scheduler.step()\n",
        "\n",
        "      mmc.eval()\n",
        "      for batch_idx, (data, target) in enumerate(val_dl):\n",
        "          data = data.to(device)\n",
        "          target = target.to(device)\n",
        "          with torch.no_grad():\n",
        "              output = mmc(data)\n",
        "              loss = criterion(output, target)\n",
        "              per_epoch_val_loss.append(loss.item())\n",
        "\n",
        "              #val_acc = custom_balanced_accuracy(output.argmax(dim=-1), target)\n",
        "              val_acc = balanced_accuracy_score(target.cpu(), output.argmax(dim=-1).cpu())\n",
        "              #val_acc = balanced_accuracy_score(target, output>=0)\n",
        "              per_epoch_val_acc.append(val_acc.item())\n",
        "\n",
        "\n",
        "      mean_trn_loss.append(np.mean(per_epoch_trn_loss))\n",
        "      mean_val_loss.append(np.mean(per_epoch_val_loss))\n",
        "      #mean_norm.append(np.mean(per_epoch_norms))\n",
        "\n",
        "      mean_trn_acc.append(np.mean(per_epoch_trn_acc))\n",
        "      mean_val_acc.append(np.mean(per_epoch_val_acc))\n",
        "\n",
        "\n",
        "      print(f'Epoch {epoch+1}/{num_epochs}, Train Loss: {np.mean(per_epoch_trn_loss):.4f}, Val Loss: {np.mean(per_epoch_val_loss):.4f}, Trn Acc: {np.mean(per_epoch_trn_acc):.4f},  Val Acc: {np.mean(per_epoch_val_acc):.4f}')"
      ],
      "metadata": {
        "colab": {
          "base_uri": "https://localhost:8080/"
        },
        "id": "BMvxfVH3vY4F",
        "outputId": "0cdfae6f-5dd7-474f-e7bb-52d6d283805b"
      },
      "execution_count": null,
      "outputs": [
        {
          "output_type": "stream",
          "name": "stdout",
          "text": [
            "Epoch 1/20, Train Loss: 0.6993, Val Loss: 0.7001, Trn Acc: 0.4548,  Val Acc: 0.5417\n",
            "Epoch 2/20, Train Loss: 0.6941, Val Loss: 0.7155, Trn Acc: 0.5617,  Val Acc: 0.5344\n",
            "Epoch 3/20, Train Loss: 0.6905, Val Loss: 0.9088, Trn Acc: 0.5170,  Val Acc: 0.5060\n",
            "Epoch 4/20, Train Loss: 0.6997, Val Loss: 0.7081, Trn Acc: 0.4434,  Val Acc: 0.5039\n",
            "Epoch 5/20, Train Loss: 0.6967, Val Loss: 0.7223, Trn Acc: 0.4721,  Val Acc: 0.5042\n",
            "Epoch 6/20, Train Loss: 0.6978, Val Loss: 3.8512, Trn Acc: 0.4491,  Val Acc: 0.5222\n",
            "Epoch 7/20, Train Loss: 0.6996, Val Loss: 0.7040, Trn Acc: 0.4389,  Val Acc: 0.4885\n",
            "Epoch 8/20, Train Loss: 0.6980, Val Loss: 2.7281, Trn Acc: 0.4292,  Val Acc: 0.4975\n",
            "Epoch 9/20, Train Loss: 0.6996, Val Loss: 0.7006, Trn Acc: 0.4027,  Val Acc: 0.4836\n",
            "Epoch 10/20, Train Loss: 0.6973, Val Loss: 0.7065, Trn Acc: 0.4823,  Val Acc: 0.5375\n",
            "Epoch 11/20, Train Loss: 0.6898, Val Loss: 0.7120, Trn Acc: 0.5142,  Val Acc: 0.5297\n",
            "Epoch 12/20, Train Loss: 0.7003, Val Loss: 0.7042, Trn Acc: 0.4125,  Val Acc: 0.5468\n",
            "Epoch 13/20, Train Loss: 0.6945, Val Loss: 0.7107, Trn Acc: 0.4610,  Val Acc: 0.5105\n",
            "Epoch 14/20, Train Loss: 0.6976, Val Loss: 2.7264, Trn Acc: 0.4890,  Val Acc: 0.5461\n",
            "Epoch 15/20, Train Loss: 0.7025, Val Loss: 1.1799, Trn Acc: 0.4254,  Val Acc: 0.5039\n",
            "Epoch 16/20, Train Loss: 0.6958, Val Loss: 0.7079, Trn Acc: 0.5001,  Val Acc: 0.4934\n",
            "Epoch 17/20, Train Loss: 3.2801, Val Loss: 0.7035, Trn Acc: 0.4835,  Val Acc: 0.4882\n",
            "Epoch 18/20, Train Loss: 0.6952, Val Loss: 0.7442, Trn Acc: 0.4514,  Val Acc: 0.5362\n",
            "Epoch 19/20, Train Loss: 0.6990, Val Loss: 0.7108, Trn Acc: 0.4230,  Val Acc: 0.4829\n",
            "Epoch 20/20, Train Loss: 0.6860, Val Loss: 0.6999, Trn Acc: 0.5868,  Val Acc: 0.5297\n"
          ]
        }
      ]
    },
    {
      "cell_type": "code",
      "source": [
        "for epoch in range(num_epochs):\n",
        "      mmc.train()\n",
        "      per_epoch_trn_loss = []\n",
        "      per_epoch_val_loss = []\n",
        "      per_epoch_trn_acc = []\n",
        "      per_epoch_val_acc = []\n",
        "      for batch_idx, (data, target) in enumerate(trn_dl):\n",
        "          mmc.to(device)\n",
        "          data = data.to(device)\n",
        "          target = target.to(device)\n",
        "          optimizer.zero_grad()\n",
        "          #print(f\"number of positives: {target.sum():.4f}\")\n",
        "\n",
        "          output = mmc(data)\n",
        "          loss = criterion(output, target)\n",
        "          per_epoch_trn_loss.append(loss.item())\n",
        "\n",
        "          loss.backward()\n",
        "\n",
        "          trn_acc = balanced_accuracy_score(target.cpu(), output.argmax(dim=-1).cpu())\n",
        "          #trn_acc = balanced_accuracy_score(target, output>=0)\n",
        "          per_epoch_trn_acc.append(trn_acc.item())\n",
        "\n",
        "          optimizer.step()\n",
        "          scheduler.step()\n",
        "\n",
        "      mmc.eval()\n",
        "      for batch_idx, (data, target) in enumerate(val_dl):\n",
        "          data = data.to(device)\n",
        "          target = target.to(device)\n",
        "          with torch.no_grad():\n",
        "              output = mmc(data)\n",
        "              loss = criterion(output, target)\n",
        "              per_epoch_val_loss.append(loss.item())\n",
        "\n",
        "              #val_acc = custom_balanced_accuracy(output.argmax(dim=-1), target)\n",
        "              val_acc = balanced_accuracy_score(target.cpu(), output.argmax(dim=-1).cpu())\n",
        "              #val_acc = balanced_accuracy_score(target, output>=0)\n",
        "              per_epoch_val_acc.append(val_acc.item())\n",
        "\n",
        "\n",
        "      mean_trn_loss.append(np.mean(per_epoch_trn_loss))\n",
        "      mean_val_loss.append(np.mean(per_epoch_val_loss))\n",
        "      #mean_norm.append(np.mean(per_epoch_norms))\n",
        "\n",
        "      mean_trn_acc.append(np.mean(per_epoch_trn_acc))\n",
        "      mean_val_acc.append(np.mean(per_epoch_val_acc))\n",
        "\n",
        "\n",
        "      print(f'Epoch {epoch+1}/{num_epochs}, Train Loss: {np.mean(per_epoch_trn_loss):.4f}, Val Loss: {np.mean(per_epoch_val_loss):.4f}, Trn Acc: {np.mean(per_epoch_trn_acc):.4f},  Val Acc: {np.mean(per_epoch_val_acc):.4f}')"
      ],
      "metadata": {
        "colab": {
          "base_uri": "https://localhost:8080/"
        },
        "id": "K2CHbw8Z3z6t",
        "outputId": "67db9969-463f-454b-814f-c4a8b6b53626"
      },
      "execution_count": null,
      "outputs": [
        {
          "output_type": "stream",
          "name": "stdout",
          "text": [
            "Epoch 1/20, Train Loss: 219.2386, Val Loss: 0.6893, Trn Acc: 0.5420,  Val Acc: 0.5849\n",
            "Epoch 2/20, Train Loss: 480.4193, Val Loss: 0.6871, Trn Acc: 0.5104,  Val Acc: 0.4666\n",
            "Epoch 3/20, Train Loss: 208.5374, Val Loss: 0.6917, Trn Acc: 0.4279,  Val Acc: 0.4870\n",
            "Epoch 4/20, Train Loss: 147.6573, Val Loss: 0.6844, Trn Acc: 0.4363,  Val Acc: 0.4456\n",
            "Epoch 5/20, Train Loss: 132.8237, Val Loss: 0.6910, Trn Acc: 0.5563,  Val Acc: 0.5334\n",
            "Epoch 6/20, Train Loss: 311.5102, Val Loss: 0.6851, Trn Acc: 0.5157,  Val Acc: 0.4345\n",
            "Epoch 7/20, Train Loss: 31.7638, Val Loss: 0.6878, Trn Acc: 0.5474,  Val Acc: 0.4603\n",
            "Epoch 8/20, Train Loss: 53.4202, Val Loss: 0.6899, Trn Acc: 0.4815,  Val Acc: 0.5419\n",
            "Epoch 9/20, Train Loss: 516.8097, Val Loss: 0.6897, Trn Acc: 0.3985,  Val Acc: 0.5392\n",
            "Epoch 10/20, Train Loss: 3.8401, Val Loss: 0.6895, Trn Acc: 0.5083,  Val Acc: 0.4898\n",
            "Epoch 11/20, Train Loss: 134.9771, Val Loss: 0.6908, Trn Acc: 0.5121,  Val Acc: 0.4375\n",
            "Epoch 12/20, Train Loss: 2.0205, Val Loss: 0.6830, Trn Acc: 0.5088,  Val Acc: 0.4373\n",
            "Epoch 13/20, Train Loss: 297.8068, Val Loss: 0.6826, Trn Acc: 0.5019,  Val Acc: 0.4474\n",
            "Epoch 14/20, Train Loss: 403.4292, Val Loss: 0.6875, Trn Acc: 0.4717,  Val Acc: 0.5653\n",
            "Epoch 15/20, Train Loss: 16.0290, Val Loss: 0.6902, Trn Acc: 0.5393,  Val Acc: 0.4707\n",
            "Epoch 16/20, Train Loss: 17.1179, Val Loss: 0.6939, Trn Acc: 0.4627,  Val Acc: 0.4986\n",
            "Epoch 17/20, Train Loss: 386.8469, Val Loss: 0.6924, Trn Acc: 0.4965,  Val Acc: 0.4794\n",
            "Epoch 18/20, Train Loss: 554.5475, Val Loss: 0.6872, Trn Acc: 0.4931,  Val Acc: 0.4165\n",
            "Epoch 19/20, Train Loss: 233.3301, Val Loss: 0.6860, Trn Acc: 0.5095,  Val Acc: 0.4226\n",
            "Epoch 20/20, Train Loss: 450.4800, Val Loss: 0.6854, Trn Acc: 0.4019,  Val Acc: 0.5240\n"
          ]
        }
      ]
    },
    {
      "cell_type": "code",
      "source": [
        "for epoch in range(num_epochs):\n",
        "      mmc.train()\n",
        "      per_epoch_trn_loss = []\n",
        "      per_epoch_val_loss = []\n",
        "      per_epoch_trn_acc = []\n",
        "      per_epoch_val_acc = []\n",
        "      for batch_idx, (data, target) in enumerate(trn_dl):\n",
        "          optimizer.zero_grad()\n",
        "          #print(f\"number of positives: {target.sum():.4f}\")\n",
        "\n",
        "          output = mmc(data)\n",
        "          loss = criterion(output, target)\n",
        "          per_epoch_trn_loss.append(loss.item())\n",
        "\n",
        "          loss.backward()\n",
        "\n",
        "          trn_acc = balanced_accuracy_score(target, output.argmax(dim=-1))\n",
        "          #trn_acc = balanced_accuracy_score(target, output>=0)\n",
        "          per_epoch_trn_acc.append(trn_acc.item())\n",
        "\n",
        "          optimizer.step()\n",
        "          scheduler.step()\n",
        "\n",
        "      mmc.eval()\n",
        "      for batch_idx, (data, target) in enumerate(val_dl):\n",
        "          with torch.no_grad():\n",
        "              output = mmc(data)\n",
        "              loss = criterion(output, target)\n",
        "              per_epoch_val_loss.append(loss.item())\n",
        "\n",
        "              #val_acc = custom_balanced_accuracy(output.argmax(dim=-1), target)\n",
        "              val_acc = balanced_accuracy_score(target, output.argmax(dim=-1))\n",
        "              #val_acc = balanced_accuracy_score(target, output>=0)\n",
        "              per_epoch_val_acc.append(val_acc.item())\n",
        "\n",
        "\n",
        "      mean_trn_loss.append(np.mean(per_epoch_trn_loss))\n",
        "      mean_val_loss.append(np.mean(per_epoch_val_loss))\n",
        "      #mean_norm.append(np.mean(per_epoch_norms))\n",
        "\n",
        "      mean_trn_acc.append(np.mean(per_epoch_trn_acc))\n",
        "      mean_val_acc.append(np.mean(per_epoch_val_acc))\n",
        "\n",
        "\n",
        "      print(f'Epoch {epoch+1}/{num_epochs}, Train Loss: {np.mean(per_epoch_trn_loss):.4f}, Val Loss: {np.mean(per_epoch_val_loss):.4f}, Trn Acc: {np.mean(per_epoch_trn_acc):.4f},  Val Acc: {np.mean(per_epoch_val_acc):.4f}')"
      ],
      "metadata": {
        "colab": {
          "base_uri": "https://localhost:8080/"
        },
        "id": "WLWr-7i4nt4_",
        "outputId": "ca077251-0343-4610-e873-0c684398244b"
      },
      "execution_count": null,
      "outputs": [
        {
          "metadata": {
            "tags": null
          },
          "name": "stdout",
          "output_type": "stream",
          "text": [
            "Epoch 1/20, Train Loss: 2262.2971, Val Loss: 0.6916, Trn Acc: 0.4537,  Val Acc: 0.4461\n",
            "Epoch 2/20, Train Loss: 118.8506, Val Loss: 35.0503, Trn Acc: 0.5777,  Val Acc: 0.5150\n",
            "Epoch 3/20, Train Loss: 2164.3794, Val Loss: 27.5954, Trn Acc: 0.4023,  Val Acc: 0.4871\n",
            "Epoch 4/20, Train Loss: 126.3410, Val Loss: 8.5038, Trn Acc: 0.4133,  Val Acc: 0.5377\n",
            "Epoch 5/20, Train Loss: 725.5681, Val Loss: 5.5742, Trn Acc: 0.5369,  Val Acc: 0.5189\n",
            "Epoch 6/20, Train Loss: 883.7188, Val Loss: 1.1522, Trn Acc: 0.4826,  Val Acc: 0.4821\n",
            "Epoch 7/20, Train Loss: 270.4990, Val Loss: 0.8195, Trn Acc: 0.4945,  Val Acc: 0.4886\n",
            "Epoch 8/20, Train Loss: 110.9517, Val Loss: 3.5818, Trn Acc: 0.5498,  Val Acc: 0.4733\n"
          ]
        },
        {
          "metadata": {
            "tags": null
          },
          "name": "stderr",
          "output_type": "stream",
          "text": [
            "/usr/local/lib/python3.10/dist-packages/sklearn/metrics/_classification.py:2184: UserWarning: y_pred contains classes not in y_true\n",
            "  warnings.warn(\"y_pred contains classes not in y_true\")\n"
          ]
        },
        {
          "output_type": "stream",
          "name": "stdout",
          "text": [
            "Epoch 9/20, Train Loss: 130.6181, Val Loss: 2.6713, Trn Acc: 0.4775,  Val Acc: 0.4706\n",
            "Epoch 10/20, Train Loss: 152.2191, Val Loss: 0.7082, Trn Acc: 0.4845,  Val Acc: 0.4847\n",
            "Epoch 11/20, Train Loss: 130.8970, Val Loss: 0.9865, Trn Acc: 0.5872,  Val Acc: 0.4493\n",
            "Epoch 12/20, Train Loss: 30.1803, Val Loss: 0.6997, Trn Acc: 0.6035,  Val Acc: 0.5125\n",
            "Epoch 13/20, Train Loss: 187.7338, Val Loss: 0.6992, Trn Acc: 0.4224,  Val Acc: 0.5150\n",
            "Epoch 14/20, Train Loss: 212.8765, Val Loss: 1.4001, Trn Acc: 0.4536,  Val Acc: 0.4783\n",
            "Epoch 15/20, Train Loss: 2914.9250, Val Loss: 32.3604, Trn Acc: 0.4894,  Val Acc: 0.4729\n",
            "Epoch 16/20, Train Loss: 174.8447, Val Loss: 2.0369, Trn Acc: 0.4676,  Val Acc: 0.5250\n",
            "Epoch 17/20, Train Loss: 303.7262, Val Loss: 31.6369, Trn Acc: 0.5008,  Val Acc: 0.5113\n",
            "Epoch 18/20, Train Loss: 1020.6682, Val Loss: 0.6809, Trn Acc: 0.4168,  Val Acc: 0.4666\n",
            "Epoch 19/20, Train Loss: 123.0227, Val Loss: 39.8086, Trn Acc: 0.4912,  Val Acc: 0.5110\n",
            "Epoch 20/20, Train Loss: 122.5301, Val Loss: 41.6260, Trn Acc: 0.5025,  Val Acc: 0.4804\n"
          ]
        }
      ]
    },
    {
      "cell_type": "code",
      "source": [
        "!cp /content/data_Adeola_July21.zip drive/MyDrive/data_Adeola_July21.zip"
      ],
      "metadata": {
        "id": "lo-GRA32osH6"
      },
      "execution_count": null,
      "outputs": []
    },
    {
      "cell_type": "code",
      "source": [
        "!rm drive/MyDrive/data_Adeola_July21"
      ],
      "metadata": {
        "id": "CkwM2Z7eu_AA"
      },
      "execution_count": null,
      "outputs": []
    },
    {
      "cell_type": "code",
      "source": [
        "!cp drive/MyDrive/data_Adeola_July21.zip /content/data_Adeola_July21.zip"
      ],
      "metadata": {
        "id": "JhwRXBDFvEPC"
      },
      "execution_count": null,
      "outputs": []
    },
    {
      "cell_type": "code",
      "source": [],
      "metadata": {
        "id": "_OLN-lG-vcuL"
      },
      "execution_count": null,
      "outputs": []
    }
  ]
}